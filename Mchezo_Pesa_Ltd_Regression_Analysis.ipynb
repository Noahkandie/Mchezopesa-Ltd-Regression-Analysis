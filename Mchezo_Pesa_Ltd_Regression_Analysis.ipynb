{
  "nbformat": 4,
  "nbformat_minor": 0,
  "metadata": {
    "colab": {
      "name": "Mchezo Pesa Ltd Regression Analysis.ipynb",
      "provenance": [],
      "collapsed_sections": [
        "T8PMi7AbIAw1"
      ],
      "authorship_tag": "ABX9TyNUlnfNlM8U9MXRnTb+JV27",
      "include_colab_link": true
    },
    "kernelspec": {
      "name": "python3",
      "display_name": "Python 3"
    },
    "language_info": {
      "name": "python"
    }
  },
  "cells": [
    {
      "cell_type": "markdown",
      "metadata": {
        "id": "view-in-github",
        "colab_type": "text"
      },
      "source": [
        "<a href=\"https://colab.research.google.com/github/Noahkandie/Mchezopesa-Ltd-Regression-Analysis/blob/main/Mchezo_Pesa_Ltd_Regression_Analysis.ipynb\" target=\"_parent\"><img src=\"https://colab.research.google.com/assets/colab-badge.svg\" alt=\"Open In Colab\"/></a>"
      ]
    },
    {
      "cell_type": "markdown",
      "metadata": {
        "id": "AXFbmdHoHwjf"
      },
      "source": [
        "## **1. Introduction**"
      ]
    },
    {
      "cell_type": "markdown",
      "metadata": {
        "id": "6mVqGiGWIhUg"
      },
      "source": [
        "#### **Overview**"
      ]
    },
    {
      "cell_type": "markdown",
      "metadata": {
        "id": "LkM5UAiQH0aO"
      },
      "source": [
        "\n",
        "You have been recruited as a football analyst in a company - Mchezopesa Ltd and tasked to accomplish the task below.\n",
        "\n",
        "A prediction result of a game between team 1 and team 2, based on who's home and who's away, and on whether or not the game is friendly (include rank in your training).\n",
        "\n",
        "You have two possible approaches (as shown below) given the datasets that will be provided\n",
        "\n",
        "Input: Home team, Away team, Tournament type (World cup, Friendly, Other)\n",
        "Approach 1: Polynomial approach\n",
        "\n",
        "What to train given:\n",
        "\n",
        "    - Rank of home team\n",
        "    - Rank of away team\n",
        "    - Tournament type\n",
        "**bold text**\n",
        "Model 1: Predict how many goals the home team scores.\n",
        "\n",
        "Model 2: Predict how many goals the away team scores.\n",
        "Approach 2: Logistic approach\n",
        "\n",
        "Feature Engineering: Figure out from the home team’s perspective if the game is a Win, Lose or Draw (W, L, D)"
      ]
    },
    {
      "cell_type": "markdown",
      "metadata": {
        "id": "IdP0W_n-InFM"
      },
      "source": [
        "### **Research Question**"
      ]
    },
    {
      "cell_type": "markdown",
      "metadata": {
        "id": "aTQUl1Y8Irwa"
      },
      "source": [
        "Given the rank of the home team, the rank of the away team, and the rank of the tournament type, predict:\n",
        "\n",
        "    how many goals the home team scores\n",
        "    how many goals the away team scores\n",
        "\n",
        "Also, from the home team's perspective, use feature engineering to determine if the game is a Win, Lose, or Draw (W, L, or D)"
      ]
    },
    {
      "cell_type": "markdown",
      "metadata": {
        "id": "vQQbZ6-HI0VG"
      },
      "source": [
        "###  **Metric for Success**\n",
        "\n",
        "The model will be considered a success when it is able to correctly and accurately predict the respective scores, and determine whether the game is a win, lose, or draw. \n",
        "We are setting the minimum accuracy level to be 80% because it seems a good target score for accuracy."
      ]
    },
    {
      "cell_type": "markdown",
      "metadata": {
        "id": "a0FZ7Lh4JHoy"
      },
      "source": [
        "### **Experimental Design**\n",
        "\n",
        "We will carry out the following procedure to solve the research question:\n",
        "\n",
        "- load, merge, prepare, and clean the datasets\n",
        "- perform exploratory data analysis\n",
        "- perform polynomial and logistic regression\n",
        "- build the models and cross-validate them\n",
        "- interpret results obtained and use them to make conclusions\n",
        "- challenge my working\n",
        "\n",
        "\n",
        "For the Polynomial Regression part, we intend to do the following:\n",
        "\n",
        "    Carry out feature engineering, where applicable\n",
        "    Check for multicollinearity\n",
        "    Build an optimal model\n",
        "    Cross validate the model\n",
        "    Compute and interpret the RMSE\n",
        "    Assess the heteroscedasticity\n",
        "\n",
        "For Logistic Regression, we will carry out the following:\n",
        "\n",
        "    Feature engineering, where necessary\n",
        "    Train an optimal classifier\n",
        "    Interpret the results\n",
        "    Make a suitable prediction\n"
      ]
    },
    {
      "cell_type": "markdown",
      "metadata": {
        "id": "vS6DkPI8J0zh"
      },
      "source": [
        "### Data Relevance\n",
        "\n",
        "The data that was used for survey was obtained from an open datasource. this data is an aggregation by day of the number of goals scored and rankings of countries in the men's FIFA team. with it is a model that determines which team gets to be ranked where and how according to the years and goals"
      ]
    },
    {
      "cell_type": "markdown",
      "metadata": {
        "id": "obvGZg8SJ-ZF"
      },
      "source": [
        "## 2. Data Understanding"
      ]
    },
    {
      "cell_type": "code",
      "metadata": {
        "id": "SFkgCs26Fg52"
      },
      "source": [
        "# Import Libraries\n",
        "import numpy as np\n",
        "import pandas as pd\n",
        "import seaborn as sns\n",
        "import scipy as sp\n",
        "\n",
        "from sklearn import metrics\n",
        "from sklearn.linear_model import LinearRegression\n",
        "from sklearn.linear_model import LogisticRegression\n",
        "from sklearn.preprocessing import PolynomialFeatures\n",
        "from sklearn.preprocessing import LabelEncoder\n",
        "\n",
        "from sklearn.model_selection import cross_val_score\n",
        "from sklearn.model_selection import KFold\n",
        "from sklearn.model_selection import train_test_split\n",
        "from sklearn.neighbors import KNeighborsClassifier\n",
        "\n",
        "import matplotlib.pyplot as plt\n"
      ],
      "execution_count": 1,
      "outputs": []
    },
    {
      "cell_type": "markdown",
      "metadata": {
        "id": "GgxslOFGKDpE"
      },
      "source": [
        "### Load Data and preview"
      ]
    },
    {
      "cell_type": "code",
      "metadata": {
        "colab": {
          "base_uri": "https://localhost:8080/",
          "height": 309
        },
        "id": "abD5RQ1tFXo0",
        "outputId": "f10d6614-a999-4db0-c1fe-3a287c56d900"
      },
      "source": [
        "# Load the datasets and preview the data\n",
        "\n",
        "# Ranking dataset\n",
        "ranking=pd.read_csv('fifa_ranking.csv')\n",
        "ranking.head()"
      ],
      "execution_count": 2,
      "outputs": [
        {
          "output_type": "execute_result",
          "data": {
            "text/html": [
              "<div>\n",
              "<style scoped>\n",
              "    .dataframe tbody tr th:only-of-type {\n",
              "        vertical-align: middle;\n",
              "    }\n",
              "\n",
              "    .dataframe tbody tr th {\n",
              "        vertical-align: top;\n",
              "    }\n",
              "\n",
              "    .dataframe thead th {\n",
              "        text-align: right;\n",
              "    }\n",
              "</style>\n",
              "<table border=\"1\" class=\"dataframe\">\n",
              "  <thead>\n",
              "    <tr style=\"text-align: right;\">\n",
              "      <th></th>\n",
              "      <th>rank</th>\n",
              "      <th>country_full</th>\n",
              "      <th>country_abrv</th>\n",
              "      <th>total_points</th>\n",
              "      <th>previous_points</th>\n",
              "      <th>rank_change</th>\n",
              "      <th>cur_year_avg</th>\n",
              "      <th>cur_year_avg_weighted</th>\n",
              "      <th>last_year_avg</th>\n",
              "      <th>last_year_avg_weighted</th>\n",
              "      <th>two_year_ago_avg</th>\n",
              "      <th>two_year_ago_weighted</th>\n",
              "      <th>three_year_ago_avg</th>\n",
              "      <th>three_year_ago_weighted</th>\n",
              "      <th>confederation</th>\n",
              "      <th>rank_date</th>\n",
              "    </tr>\n",
              "  </thead>\n",
              "  <tbody>\n",
              "    <tr>\n",
              "      <th>0</th>\n",
              "      <td>1</td>\n",
              "      <td>Germany</td>\n",
              "      <td>GER</td>\n",
              "      <td>0.0</td>\n",
              "      <td>57</td>\n",
              "      <td>0</td>\n",
              "      <td>0.0</td>\n",
              "      <td>0.0</td>\n",
              "      <td>0.0</td>\n",
              "      <td>0.0</td>\n",
              "      <td>0.0</td>\n",
              "      <td>0.0</td>\n",
              "      <td>0.0</td>\n",
              "      <td>0.0</td>\n",
              "      <td>UEFA</td>\n",
              "      <td>1993-08-08</td>\n",
              "    </tr>\n",
              "    <tr>\n",
              "      <th>1</th>\n",
              "      <td>2</td>\n",
              "      <td>Italy</td>\n",
              "      <td>ITA</td>\n",
              "      <td>0.0</td>\n",
              "      <td>57</td>\n",
              "      <td>0</td>\n",
              "      <td>0.0</td>\n",
              "      <td>0.0</td>\n",
              "      <td>0.0</td>\n",
              "      <td>0.0</td>\n",
              "      <td>0.0</td>\n",
              "      <td>0.0</td>\n",
              "      <td>0.0</td>\n",
              "      <td>0.0</td>\n",
              "      <td>UEFA</td>\n",
              "      <td>1993-08-08</td>\n",
              "    </tr>\n",
              "    <tr>\n",
              "      <th>2</th>\n",
              "      <td>3</td>\n",
              "      <td>Switzerland</td>\n",
              "      <td>SUI</td>\n",
              "      <td>0.0</td>\n",
              "      <td>50</td>\n",
              "      <td>9</td>\n",
              "      <td>0.0</td>\n",
              "      <td>0.0</td>\n",
              "      <td>0.0</td>\n",
              "      <td>0.0</td>\n",
              "      <td>0.0</td>\n",
              "      <td>0.0</td>\n",
              "      <td>0.0</td>\n",
              "      <td>0.0</td>\n",
              "      <td>UEFA</td>\n",
              "      <td>1993-08-08</td>\n",
              "    </tr>\n",
              "    <tr>\n",
              "      <th>3</th>\n",
              "      <td>4</td>\n",
              "      <td>Sweden</td>\n",
              "      <td>SWE</td>\n",
              "      <td>0.0</td>\n",
              "      <td>55</td>\n",
              "      <td>0</td>\n",
              "      <td>0.0</td>\n",
              "      <td>0.0</td>\n",
              "      <td>0.0</td>\n",
              "      <td>0.0</td>\n",
              "      <td>0.0</td>\n",
              "      <td>0.0</td>\n",
              "      <td>0.0</td>\n",
              "      <td>0.0</td>\n",
              "      <td>UEFA</td>\n",
              "      <td>1993-08-08</td>\n",
              "    </tr>\n",
              "    <tr>\n",
              "      <th>4</th>\n",
              "      <td>5</td>\n",
              "      <td>Argentina</td>\n",
              "      <td>ARG</td>\n",
              "      <td>0.0</td>\n",
              "      <td>51</td>\n",
              "      <td>5</td>\n",
              "      <td>0.0</td>\n",
              "      <td>0.0</td>\n",
              "      <td>0.0</td>\n",
              "      <td>0.0</td>\n",
              "      <td>0.0</td>\n",
              "      <td>0.0</td>\n",
              "      <td>0.0</td>\n",
              "      <td>0.0</td>\n",
              "      <td>CONMEBOL</td>\n",
              "      <td>1993-08-08</td>\n",
              "    </tr>\n",
              "  </tbody>\n",
              "</table>\n",
              "</div>"
            ],
            "text/plain": [
              "   rank country_full  ... confederation   rank_date\n",
              "0     1      Germany  ...          UEFA  1993-08-08\n",
              "1     2        Italy  ...          UEFA  1993-08-08\n",
              "2     3  Switzerland  ...          UEFA  1993-08-08\n",
              "3     4       Sweden  ...          UEFA  1993-08-08\n",
              "4     5    Argentina  ...      CONMEBOL  1993-08-08\n",
              "\n",
              "[5 rows x 16 columns]"
            ]
          },
          "metadata": {
            "tags": []
          },
          "execution_count": 2
        }
      ]
    },
    {
      "cell_type": "code",
      "metadata": {
        "colab": {
          "base_uri": "https://localhost:8080/",
          "height": 309
        },
        "id": "XlBrZXVIGpL5",
        "outputId": "cf5d130e-43e6-4fd7-ef42-354d288ebc8b"
      },
      "source": [
        "ranking.tail()"
      ],
      "execution_count": 3,
      "outputs": [
        {
          "output_type": "execute_result",
          "data": {
            "text/html": [
              "<div>\n",
              "<style scoped>\n",
              "    .dataframe tbody tr th:only-of-type {\n",
              "        vertical-align: middle;\n",
              "    }\n",
              "\n",
              "    .dataframe tbody tr th {\n",
              "        vertical-align: top;\n",
              "    }\n",
              "\n",
              "    .dataframe thead th {\n",
              "        text-align: right;\n",
              "    }\n",
              "</style>\n",
              "<table border=\"1\" class=\"dataframe\">\n",
              "  <thead>\n",
              "    <tr style=\"text-align: right;\">\n",
              "      <th></th>\n",
              "      <th>rank</th>\n",
              "      <th>country_full</th>\n",
              "      <th>country_abrv</th>\n",
              "      <th>total_points</th>\n",
              "      <th>previous_points</th>\n",
              "      <th>rank_change</th>\n",
              "      <th>cur_year_avg</th>\n",
              "      <th>cur_year_avg_weighted</th>\n",
              "      <th>last_year_avg</th>\n",
              "      <th>last_year_avg_weighted</th>\n",
              "      <th>two_year_ago_avg</th>\n",
              "      <th>two_year_ago_weighted</th>\n",
              "      <th>three_year_ago_avg</th>\n",
              "      <th>three_year_ago_weighted</th>\n",
              "      <th>confederation</th>\n",
              "      <th>rank_date</th>\n",
              "    </tr>\n",
              "  </thead>\n",
              "  <tbody>\n",
              "    <tr>\n",
              "      <th>57788</th>\n",
              "      <td>206</td>\n",
              "      <td>Anguilla</td>\n",
              "      <td>AIA</td>\n",
              "      <td>0.0</td>\n",
              "      <td>0</td>\n",
              "      <td>1</td>\n",
              "      <td>0.0</td>\n",
              "      <td>0.0</td>\n",
              "      <td>0.0</td>\n",
              "      <td>0.0</td>\n",
              "      <td>0.0</td>\n",
              "      <td>0.0</td>\n",
              "      <td>0.0</td>\n",
              "      <td>0.0</td>\n",
              "      <td>CONCACAF</td>\n",
              "      <td>2018-06-07</td>\n",
              "    </tr>\n",
              "    <tr>\n",
              "      <th>57789</th>\n",
              "      <td>206</td>\n",
              "      <td>Bahamas</td>\n",
              "      <td>BAH</td>\n",
              "      <td>0.0</td>\n",
              "      <td>0</td>\n",
              "      <td>1</td>\n",
              "      <td>0.0</td>\n",
              "      <td>0.0</td>\n",
              "      <td>0.0</td>\n",
              "      <td>0.0</td>\n",
              "      <td>0.0</td>\n",
              "      <td>0.0</td>\n",
              "      <td>0.0</td>\n",
              "      <td>0.0</td>\n",
              "      <td>CONCACAF</td>\n",
              "      <td>2018-06-07</td>\n",
              "    </tr>\n",
              "    <tr>\n",
              "      <th>57790</th>\n",
              "      <td>206</td>\n",
              "      <td>Eritrea</td>\n",
              "      <td>ERI</td>\n",
              "      <td>0.0</td>\n",
              "      <td>0</td>\n",
              "      <td>1</td>\n",
              "      <td>0.0</td>\n",
              "      <td>0.0</td>\n",
              "      <td>0.0</td>\n",
              "      <td>0.0</td>\n",
              "      <td>0.0</td>\n",
              "      <td>0.0</td>\n",
              "      <td>0.0</td>\n",
              "      <td>0.0</td>\n",
              "      <td>CAF</td>\n",
              "      <td>2018-06-07</td>\n",
              "    </tr>\n",
              "    <tr>\n",
              "      <th>57791</th>\n",
              "      <td>206</td>\n",
              "      <td>Somalia</td>\n",
              "      <td>SOM</td>\n",
              "      <td>0.0</td>\n",
              "      <td>0</td>\n",
              "      <td>1</td>\n",
              "      <td>0.0</td>\n",
              "      <td>0.0</td>\n",
              "      <td>0.0</td>\n",
              "      <td>0.0</td>\n",
              "      <td>0.0</td>\n",
              "      <td>0.0</td>\n",
              "      <td>0.0</td>\n",
              "      <td>0.0</td>\n",
              "      <td>CAF</td>\n",
              "      <td>2018-06-07</td>\n",
              "    </tr>\n",
              "    <tr>\n",
              "      <th>57792</th>\n",
              "      <td>206</td>\n",
              "      <td>Tonga</td>\n",
              "      <td>TGA</td>\n",
              "      <td>0.0</td>\n",
              "      <td>0</td>\n",
              "      <td>1</td>\n",
              "      <td>0.0</td>\n",
              "      <td>0.0</td>\n",
              "      <td>0.0</td>\n",
              "      <td>0.0</td>\n",
              "      <td>0.0</td>\n",
              "      <td>0.0</td>\n",
              "      <td>0.0</td>\n",
              "      <td>0.0</td>\n",
              "      <td>OFC</td>\n",
              "      <td>2018-06-07</td>\n",
              "    </tr>\n",
              "  </tbody>\n",
              "</table>\n",
              "</div>"
            ],
            "text/plain": [
              "       rank country_full  ... confederation   rank_date\n",
              "57788   206     Anguilla  ...      CONCACAF  2018-06-07\n",
              "57789   206      Bahamas  ...      CONCACAF  2018-06-07\n",
              "57790   206      Eritrea  ...           CAF  2018-06-07\n",
              "57791   206      Somalia  ...           CAF  2018-06-07\n",
              "57792   206        Tonga  ...           OFC  2018-06-07\n",
              "\n",
              "[5 rows x 16 columns]"
            ]
          },
          "metadata": {
            "tags": []
          },
          "execution_count": 3
        }
      ]
    },
    {
      "cell_type": "code",
      "metadata": {
        "colab": {
          "base_uri": "https://localhost:8080/"
        },
        "id": "7Z8mh2kqP7gs",
        "outputId": "1352cbae-ccf6-4cfe-8bb0-ef82924897c5"
      },
      "source": [
        "ranking.info()\n",
        "# The dataset has 57756 rows and 16 columns\n",
        "# We can also check the datatypes"
      ],
      "execution_count": 4,
      "outputs": [
        {
          "output_type": "stream",
          "text": [
            "<class 'pandas.core.frame.DataFrame'>\n",
            "RangeIndex: 57793 entries, 0 to 57792\n",
            "Data columns (total 16 columns):\n",
            " #   Column                   Non-Null Count  Dtype  \n",
            "---  ------                   --------------  -----  \n",
            " 0   rank                     57793 non-null  int64  \n",
            " 1   country_full             57793 non-null  object \n",
            " 2   country_abrv             57793 non-null  object \n",
            " 3   total_points             57793 non-null  float64\n",
            " 4   previous_points          57793 non-null  int64  \n",
            " 5   rank_change              57793 non-null  int64  \n",
            " 6   cur_year_avg             57793 non-null  float64\n",
            " 7   cur_year_avg_weighted    57793 non-null  float64\n",
            " 8   last_year_avg            57793 non-null  float64\n",
            " 9   last_year_avg_weighted   57793 non-null  float64\n",
            " 10  two_year_ago_avg         57793 non-null  float64\n",
            " 11  two_year_ago_weighted    57793 non-null  float64\n",
            " 12  three_year_ago_avg       57793 non-null  float64\n",
            " 13  three_year_ago_weighted  57793 non-null  float64\n",
            " 14  confederation            57793 non-null  object \n",
            " 15  rank_date                57793 non-null  object \n",
            "dtypes: float64(9), int64(3), object(4)\n",
            "memory usage: 7.1+ MB\n"
          ],
          "name": "stdout"
        }
      ]
    },
    {
      "cell_type": "code",
      "metadata": {
        "colab": {
          "base_uri": "https://localhost:8080/",
          "height": 204
        },
        "id": "UZRkOFejGLbO",
        "outputId": "4fb075ec-6955-49b6-8cad-a13dbd764bb6"
      },
      "source": [
        "# Result dataset \n",
        "results=pd.read_csv('/content/results.csv')\n",
        "results.head()"
      ],
      "execution_count": 5,
      "outputs": [
        {
          "output_type": "execute_result",
          "data": {
            "text/html": [
              "<div>\n",
              "<style scoped>\n",
              "    .dataframe tbody tr th:only-of-type {\n",
              "        vertical-align: middle;\n",
              "    }\n",
              "\n",
              "    .dataframe tbody tr th {\n",
              "        vertical-align: top;\n",
              "    }\n",
              "\n",
              "    .dataframe thead th {\n",
              "        text-align: right;\n",
              "    }\n",
              "</style>\n",
              "<table border=\"1\" class=\"dataframe\">\n",
              "  <thead>\n",
              "    <tr style=\"text-align: right;\">\n",
              "      <th></th>\n",
              "      <th>date</th>\n",
              "      <th>home_team</th>\n",
              "      <th>away_team</th>\n",
              "      <th>home_score</th>\n",
              "      <th>away_score</th>\n",
              "      <th>tournament</th>\n",
              "      <th>city</th>\n",
              "      <th>country</th>\n",
              "      <th>neutral</th>\n",
              "    </tr>\n",
              "  </thead>\n",
              "  <tbody>\n",
              "    <tr>\n",
              "      <th>0</th>\n",
              "      <td>1872-11-30</td>\n",
              "      <td>Scotland</td>\n",
              "      <td>England</td>\n",
              "      <td>0</td>\n",
              "      <td>0</td>\n",
              "      <td>Friendly</td>\n",
              "      <td>Glasgow</td>\n",
              "      <td>Scotland</td>\n",
              "      <td>False</td>\n",
              "    </tr>\n",
              "    <tr>\n",
              "      <th>1</th>\n",
              "      <td>1873-03-08</td>\n",
              "      <td>England</td>\n",
              "      <td>Scotland</td>\n",
              "      <td>4</td>\n",
              "      <td>2</td>\n",
              "      <td>Friendly</td>\n",
              "      <td>London</td>\n",
              "      <td>England</td>\n",
              "      <td>False</td>\n",
              "    </tr>\n",
              "    <tr>\n",
              "      <th>2</th>\n",
              "      <td>1874-03-07</td>\n",
              "      <td>Scotland</td>\n",
              "      <td>England</td>\n",
              "      <td>2</td>\n",
              "      <td>1</td>\n",
              "      <td>Friendly</td>\n",
              "      <td>Glasgow</td>\n",
              "      <td>Scotland</td>\n",
              "      <td>False</td>\n",
              "    </tr>\n",
              "    <tr>\n",
              "      <th>3</th>\n",
              "      <td>1875-03-06</td>\n",
              "      <td>England</td>\n",
              "      <td>Scotland</td>\n",
              "      <td>2</td>\n",
              "      <td>2</td>\n",
              "      <td>Friendly</td>\n",
              "      <td>London</td>\n",
              "      <td>England</td>\n",
              "      <td>False</td>\n",
              "    </tr>\n",
              "    <tr>\n",
              "      <th>4</th>\n",
              "      <td>1876-03-04</td>\n",
              "      <td>Scotland</td>\n",
              "      <td>England</td>\n",
              "      <td>3</td>\n",
              "      <td>0</td>\n",
              "      <td>Friendly</td>\n",
              "      <td>Glasgow</td>\n",
              "      <td>Scotland</td>\n",
              "      <td>False</td>\n",
              "    </tr>\n",
              "  </tbody>\n",
              "</table>\n",
              "</div>"
            ],
            "text/plain": [
              "         date home_team away_team  ...     city   country neutral\n",
              "0  1872-11-30  Scotland   England  ...  Glasgow  Scotland   False\n",
              "1  1873-03-08   England  Scotland  ...   London   England   False\n",
              "2  1874-03-07  Scotland   England  ...  Glasgow  Scotland   False\n",
              "3  1875-03-06   England  Scotland  ...   London   England   False\n",
              "4  1876-03-04  Scotland   England  ...  Glasgow  Scotland   False\n",
              "\n",
              "[5 rows x 9 columns]"
            ]
          },
          "metadata": {
            "tags": []
          },
          "execution_count": 5
        }
      ]
    },
    {
      "cell_type": "code",
      "metadata": {
        "colab": {
          "base_uri": "https://localhost:8080/",
          "height": 204
        },
        "id": "D52NCKVbGsAB",
        "outputId": "81e6b025-1a44-47eb-ae5f-b94976b55781"
      },
      "source": [
        "results.tail()"
      ],
      "execution_count": 6,
      "outputs": [
        {
          "output_type": "execute_result",
          "data": {
            "text/html": [
              "<div>\n",
              "<style scoped>\n",
              "    .dataframe tbody tr th:only-of-type {\n",
              "        vertical-align: middle;\n",
              "    }\n",
              "\n",
              "    .dataframe tbody tr th {\n",
              "        vertical-align: top;\n",
              "    }\n",
              "\n",
              "    .dataframe thead th {\n",
              "        text-align: right;\n",
              "    }\n",
              "</style>\n",
              "<table border=\"1\" class=\"dataframe\">\n",
              "  <thead>\n",
              "    <tr style=\"text-align: right;\">\n",
              "      <th></th>\n",
              "      <th>date</th>\n",
              "      <th>home_team</th>\n",
              "      <th>away_team</th>\n",
              "      <th>home_score</th>\n",
              "      <th>away_score</th>\n",
              "      <th>tournament</th>\n",
              "      <th>city</th>\n",
              "      <th>country</th>\n",
              "      <th>neutral</th>\n",
              "    </tr>\n",
              "  </thead>\n",
              "  <tbody>\n",
              "    <tr>\n",
              "      <th>40834</th>\n",
              "      <td>2019-07-18</td>\n",
              "      <td>American Samoa</td>\n",
              "      <td>Tahiti</td>\n",
              "      <td>8</td>\n",
              "      <td>1</td>\n",
              "      <td>Pacific Games</td>\n",
              "      <td>Apia</td>\n",
              "      <td>Samoa</td>\n",
              "      <td>True</td>\n",
              "    </tr>\n",
              "    <tr>\n",
              "      <th>40835</th>\n",
              "      <td>2019-07-18</td>\n",
              "      <td>Fiji</td>\n",
              "      <td>Solomon Islands</td>\n",
              "      <td>4</td>\n",
              "      <td>4</td>\n",
              "      <td>Pacific Games</td>\n",
              "      <td>Apia</td>\n",
              "      <td>Samoa</td>\n",
              "      <td>True</td>\n",
              "    </tr>\n",
              "    <tr>\n",
              "      <th>40836</th>\n",
              "      <td>2019-07-19</td>\n",
              "      <td>Senegal</td>\n",
              "      <td>Algeria</td>\n",
              "      <td>0</td>\n",
              "      <td>1</td>\n",
              "      <td>African Cup of Nations</td>\n",
              "      <td>Cairo</td>\n",
              "      <td>Egypt</td>\n",
              "      <td>True</td>\n",
              "    </tr>\n",
              "    <tr>\n",
              "      <th>40837</th>\n",
              "      <td>2019-07-19</td>\n",
              "      <td>Tajikistan</td>\n",
              "      <td>North Korea</td>\n",
              "      <td>0</td>\n",
              "      <td>1</td>\n",
              "      <td>Intercontinental Cup</td>\n",
              "      <td>Ahmedabad</td>\n",
              "      <td>India</td>\n",
              "      <td>True</td>\n",
              "    </tr>\n",
              "    <tr>\n",
              "      <th>40838</th>\n",
              "      <td>2019-07-20</td>\n",
              "      <td>Papua New Guinea</td>\n",
              "      <td>Fiji</td>\n",
              "      <td>1</td>\n",
              "      <td>1</td>\n",
              "      <td>Pacific Games</td>\n",
              "      <td>Apia</td>\n",
              "      <td>Samoa</td>\n",
              "      <td>True</td>\n",
              "    </tr>\n",
              "  </tbody>\n",
              "</table>\n",
              "</div>"
            ],
            "text/plain": [
              "             date         home_team  ... country  neutral\n",
              "40834  2019-07-18    American Samoa  ...   Samoa     True\n",
              "40835  2019-07-18              Fiji  ...   Samoa     True\n",
              "40836  2019-07-19           Senegal  ...   Egypt     True\n",
              "40837  2019-07-19        Tajikistan  ...   India     True\n",
              "40838  2019-07-20  Papua New Guinea  ...   Samoa     True\n",
              "\n",
              "[5 rows x 9 columns]"
            ]
          },
          "metadata": {
            "tags": []
          },
          "execution_count": 6
        }
      ]
    },
    {
      "cell_type": "code",
      "metadata": {
        "colab": {
          "base_uri": "https://localhost:8080/"
        },
        "id": "g22U9F2jQRfs",
        "outputId": "c10c2fae-7ee2-4b76-c2eb-a50fdd2982ff"
      },
      "source": [
        "results.info()\n",
        "\n",
        "# The dataset has 40839 rows and 9 columns\n",
        "# We can also check the datatypes"
      ],
      "execution_count": 7,
      "outputs": [
        {
          "output_type": "stream",
          "text": [
            "<class 'pandas.core.frame.DataFrame'>\n",
            "RangeIndex: 40839 entries, 0 to 40838\n",
            "Data columns (total 9 columns):\n",
            " #   Column      Non-Null Count  Dtype \n",
            "---  ------      --------------  ----- \n",
            " 0   date        40839 non-null  object\n",
            " 1   home_team   40839 non-null  object\n",
            " 2   away_team   40839 non-null  object\n",
            " 3   home_score  40839 non-null  int64 \n",
            " 4   away_score  40839 non-null  int64 \n",
            " 5   tournament  40839 non-null  object\n",
            " 6   city        40839 non-null  object\n",
            " 7   country     40839 non-null  object\n",
            " 8   neutral     40839 non-null  bool  \n",
            "dtypes: bool(1), int64(2), object(6)\n",
            "memory usage: 2.5+ MB\n"
          ],
          "name": "stdout"
        }
      ]
    },
    {
      "cell_type": "markdown",
      "metadata": {
        "id": "quww9KpPHuza"
      },
      "source": [
        "## 3. Data Cleaning and Manipulation"
      ]
    },
    {
      "cell_type": "markdown",
      "metadata": {
        "id": "T8PMi7AbIAw1"
      },
      "source": [
        " Ranking"
      ]
    },
    {
      "cell_type": "code",
      "metadata": {
        "colab": {
          "base_uri": "https://localhost:8080/"
        },
        "id": "oUmQZUPqdlTZ",
        "outputId": "703161b0-0602-4193-dfca-657e22bfc4ac"
      },
      "source": [
        "print('Team Ranking columns=: ', ranking.columns)"
      ],
      "execution_count": 8,
      "outputs": [
        {
          "output_type": "stream",
          "text": [
            "Team Ranking columns=:  Index(['rank', 'country_full', 'country_abrv', 'total_points',\n",
            "       'previous_points', 'rank_change', 'cur_year_avg',\n",
            "       'cur_year_avg_weighted', 'last_year_avg', 'last_year_avg_weighted',\n",
            "       'two_year_ago_avg', 'two_year_ago_weighted', 'three_year_ago_avg',\n",
            "       'three_year_ago_weighted', 'confederation', 'rank_date'],\n",
            "      dtype='object')\n"
          ],
          "name": "stdout"
        }
      ]
    },
    {
      "cell_type": "code",
      "metadata": {
        "colab": {
          "base_uri": "https://localhost:8080/",
          "height": 204
        },
        "id": "EGH9A4KbZz5O",
        "outputId": "8128bb74-6f08-42df-852c-938c07723326"
      },
      "source": [
        "# Drop unneeded columns\n",
        "ranking1=ranking[['country_full','rank','rank_date']]\n",
        "ranking1.sample(5)"
      ],
      "execution_count": 9,
      "outputs": [
        {
          "output_type": "execute_result",
          "data": {
            "text/html": [
              "<div>\n",
              "<style scoped>\n",
              "    .dataframe tbody tr th:only-of-type {\n",
              "        vertical-align: middle;\n",
              "    }\n",
              "\n",
              "    .dataframe tbody tr th {\n",
              "        vertical-align: top;\n",
              "    }\n",
              "\n",
              "    .dataframe thead th {\n",
              "        text-align: right;\n",
              "    }\n",
              "</style>\n",
              "<table border=\"1\" class=\"dataframe\">\n",
              "  <thead>\n",
              "    <tr style=\"text-align: right;\">\n",
              "      <th></th>\n",
              "      <th>country_full</th>\n",
              "      <th>rank</th>\n",
              "      <th>rank_date</th>\n",
              "    </tr>\n",
              "  </thead>\n",
              "  <tbody>\n",
              "    <tr>\n",
              "      <th>33681</th>\n",
              "      <td>Antigua and Barbuda</td>\n",
              "      <td>133</td>\n",
              "      <td>2008-10-08</td>\n",
              "    </tr>\n",
              "    <tr>\n",
              "      <th>21652</th>\n",
              "      <td>Bulgaria</td>\n",
              "      <td>39</td>\n",
              "      <td>2003-11-19</td>\n",
              "    </tr>\n",
              "    <tr>\n",
              "      <th>13799</th>\n",
              "      <td>Uganda</td>\n",
              "      <td>114</td>\n",
              "      <td>2000-07-05</td>\n",
              "    </tr>\n",
              "    <tr>\n",
              "      <th>3157</th>\n",
              "      <td>Zaire</td>\n",
              "      <td>56</td>\n",
              "      <td>1995-06-13</td>\n",
              "    </tr>\n",
              "    <tr>\n",
              "      <th>7355</th>\n",
              "      <td>Netherlands</td>\n",
              "      <td>4</td>\n",
              "      <td>1997-09-17</td>\n",
              "    </tr>\n",
              "  </tbody>\n",
              "</table>\n",
              "</div>"
            ],
            "text/plain": [
              "              country_full  rank   rank_date\n",
              "33681  Antigua and Barbuda   133  2008-10-08\n",
              "21652             Bulgaria    39  2003-11-19\n",
              "13799               Uganda   114  2000-07-05\n",
              "3157                 Zaire    56  1995-06-13\n",
              "7355           Netherlands     4  1997-09-17"
            ]
          },
          "metadata": {
            "tags": []
          },
          "execution_count": 9
        }
      ]
    },
    {
      "cell_type": "code",
      "metadata": {
        "colab": {
          "base_uri": "https://localhost:8080/"
        },
        "id": "SQPjtseqmXzl",
        "outputId": "373e1b07-a676-4903-9c63-ee0fac45e4f3"
      },
      "source": [
        "# Change Date datatype for both datasets and create year column\n",
        "import datetime\n",
        "ranking1['rank_date'] = pd.to_datetime(ranking1['rank_date'])\n",
        "results['date'] = pd.to_datetime(results['date'])\n"
      ],
      "execution_count": 10,
      "outputs": [
        {
          "output_type": "stream",
          "text": [
            "/usr/local/lib/python3.7/dist-packages/ipykernel_launcher.py:3: SettingWithCopyWarning: \n",
            "A value is trying to be set on a copy of a slice from a DataFrame.\n",
            "Try using .loc[row_indexer,col_indexer] = value instead\n",
            "\n",
            "See the caveats in the documentation: https://pandas.pydata.org/pandas-docs/stable/user_guide/indexing.html#returning-a-view-versus-a-copy\n",
            "  This is separate from the ipykernel package so we can avoid doing imports until\n"
          ],
          "name": "stderr"
        }
      ]
    },
    {
      "cell_type": "code",
      "metadata": {
        "colab": {
          "base_uri": "https://localhost:8080/",
          "height": 244
        },
        "id": "j3osGVHOELaj",
        "outputId": "e88e1698-2172-4656-cb81-4572ddd6a670"
      },
      "source": [
        "# create 'year' column\n",
        "ranking1['year'] = ranking1['rank_date'].dt.year\n",
        "results['year'] = results['date'].dt.year\n",
        "ranking1.sample(3)"
      ],
      "execution_count": 11,
      "outputs": [
        {
          "output_type": "stream",
          "text": [
            "/usr/local/lib/python3.7/dist-packages/ipykernel_launcher.py:2: SettingWithCopyWarning: \n",
            "A value is trying to be set on a copy of a slice from a DataFrame.\n",
            "Try using .loc[row_indexer,col_indexer] = value instead\n",
            "\n",
            "See the caveats in the documentation: https://pandas.pydata.org/pandas-docs/stable/user_guide/indexing.html#returning-a-view-versus-a-copy\n",
            "  \n"
          ],
          "name": "stderr"
        },
        {
          "output_type": "execute_result",
          "data": {
            "text/html": [
              "<div>\n",
              "<style scoped>\n",
              "    .dataframe tbody tr th:only-of-type {\n",
              "        vertical-align: middle;\n",
              "    }\n",
              "\n",
              "    .dataframe tbody tr th {\n",
              "        vertical-align: top;\n",
              "    }\n",
              "\n",
              "    .dataframe thead th {\n",
              "        text-align: right;\n",
              "    }\n",
              "</style>\n",
              "<table border=\"1\" class=\"dataframe\">\n",
              "  <thead>\n",
              "    <tr style=\"text-align: right;\">\n",
              "      <th></th>\n",
              "      <th>country_full</th>\n",
              "      <th>rank</th>\n",
              "      <th>rank_date</th>\n",
              "      <th>year</th>\n",
              "    </tr>\n",
              "  </thead>\n",
              "  <tbody>\n",
              "    <tr>\n",
              "      <th>2333</th>\n",
              "      <td>Bangladesh</td>\n",
              "      <td>127</td>\n",
              "      <td>1994-11-22</td>\n",
              "      <td>1994</td>\n",
              "    </tr>\n",
              "    <tr>\n",
              "      <th>12616</th>\n",
              "      <td>Ethiopia</td>\n",
              "      <td>143</td>\n",
              "      <td>2000-01-19</td>\n",
              "      <td>2000</td>\n",
              "    </tr>\n",
              "    <tr>\n",
              "      <th>666</th>\n",
              "      <td>Bahamas</td>\n",
              "      <td>167</td>\n",
              "      <td>1993-11-19</td>\n",
              "      <td>1993</td>\n",
              "    </tr>\n",
              "  </tbody>\n",
              "</table>\n",
              "</div>"
            ],
            "text/plain": [
              "      country_full  rank  rank_date  year\n",
              "2333    Bangladesh   127 1994-11-22  1994\n",
              "12616     Ethiopia   143 2000-01-19  2000\n",
              "666        Bahamas   167 1993-11-19  1993"
            ]
          },
          "metadata": {
            "tags": []
          },
          "execution_count": 11
        }
      ]
    },
    {
      "cell_type": "code",
      "metadata": {
        "colab": {
          "base_uri": "https://localhost:8080/"
        },
        "id": "EIzNFtD8kz_k",
        "outputId": "74367839-2cb6-4758-c9d3-d925eb917eb9"
      },
      "source": [
        "# Max and min Date\n",
        "print('max date: ',ranking1['rank_date'].max())\n",
        "print('min date: ',ranking1['rank_date'].min())"
      ],
      "execution_count": 12,
      "outputs": [
        {
          "output_type": "stream",
          "text": [
            "max date:  2018-06-07 00:00:00\n",
            "min date:  1993-08-08 00:00:00\n"
          ],
          "name": "stdout"
        }
      ]
    },
    {
      "cell_type": "code",
      "metadata": {
        "id": "cCCTKsJBWk-O"
      },
      "source": [
        "# Get the limits of the needed \n",
        "ranking1=ranking1[(ranking1['rank_date']>'1993-08-08') & (ranking['rank_date']<'2018-06-07')]\n"
      ],
      "execution_count": 13,
      "outputs": []
    },
    {
      "cell_type": "code",
      "metadata": {
        "id": "3PuAQRfPCZCO"
      },
      "source": [
        "# Standardize the result dataset\n",
        "results=results[(results['date']>'1993-08-08') & (results['date']<'2018-06-07')]\n"
      ],
      "execution_count": 14,
      "outputs": []
    },
    {
      "cell_type": "code",
      "metadata": {
        "colab": {
          "base_uri": "https://localhost:8080/",
          "height": 204
        },
        "id": "Y6B90pqVKBQ4",
        "outputId": "1210ca3f-580b-4c72-9362-fdb919d9d747"
      },
      "source": [
        "# Because ranking is done in the mid year, we aggregate the mean rank per year so we can have a singular rank value per year.\n",
        "# Using general knowledge, most countries move a few position in ranking, so the aggregation can be a good indicator of the rank \n",
        "\n",
        "ranking1 = ranking1.groupby(['year', 'country_full'], as_index=False).agg({'rank': 'mean'})\n",
        "ranking1.head()"
      ],
      "execution_count": 15,
      "outputs": [
        {
          "output_type": "execute_result",
          "data": {
            "text/html": [
              "<div>\n",
              "<style scoped>\n",
              "    .dataframe tbody tr th:only-of-type {\n",
              "        vertical-align: middle;\n",
              "    }\n",
              "\n",
              "    .dataframe tbody tr th {\n",
              "        vertical-align: top;\n",
              "    }\n",
              "\n",
              "    .dataframe thead th {\n",
              "        text-align: right;\n",
              "    }\n",
              "</style>\n",
              "<table border=\"1\" class=\"dataframe\">\n",
              "  <thead>\n",
              "    <tr style=\"text-align: right;\">\n",
              "      <th></th>\n",
              "      <th>year</th>\n",
              "      <th>country_full</th>\n",
              "      <th>rank</th>\n",
              "    </tr>\n",
              "  </thead>\n",
              "  <tbody>\n",
              "    <tr>\n",
              "      <th>0</th>\n",
              "      <td>1993</td>\n",
              "      <td>Albania</td>\n",
              "      <td>91.75</td>\n",
              "    </tr>\n",
              "    <tr>\n",
              "      <th>1</th>\n",
              "      <td>1993</td>\n",
              "      <td>Algeria</td>\n",
              "      <td>32.25</td>\n",
              "    </tr>\n",
              "    <tr>\n",
              "      <th>2</th>\n",
              "      <td>1993</td>\n",
              "      <td>Angola</td>\n",
              "      <td>98.50</td>\n",
              "    </tr>\n",
              "    <tr>\n",
              "      <th>3</th>\n",
              "      <td>1993</td>\n",
              "      <td>Antigua and Barbuda</td>\n",
              "      <td>125.50</td>\n",
              "    </tr>\n",
              "    <tr>\n",
              "      <th>4</th>\n",
              "      <td>1993</td>\n",
              "      <td>Argentina</td>\n",
              "      <td>9.50</td>\n",
              "    </tr>\n",
              "  </tbody>\n",
              "</table>\n",
              "</div>"
            ],
            "text/plain": [
              "   year         country_full    rank\n",
              "0  1993              Albania   91.75\n",
              "1  1993              Algeria   32.25\n",
              "2  1993               Angola   98.50\n",
              "3  1993  Antigua and Barbuda  125.50\n",
              "4  1993            Argentina    9.50"
            ]
          },
          "metadata": {
            "tags": []
          },
          "execution_count": 15
        }
      ]
    },
    {
      "cell_type": "code",
      "metadata": {
        "colab": {
          "base_uri": "https://localhost:8080/"
        },
        "id": "7U1MJ-uCHs-e",
        "outputId": "415c840f-3d4e-477a-be23-80e6e6e51c19"
      },
      "source": [
        "# Checking Null values and removing missing values if any\n",
        "ranking1.isnull().sum()\n"
      ],
      "execution_count": 16,
      "outputs": [
        {
          "output_type": "execute_result",
          "data": {
            "text/plain": [
              "year            0\n",
              "country_full    0\n",
              "rank            0\n",
              "dtype: int64"
            ]
          },
          "metadata": {
            "tags": []
          },
          "execution_count": 16
        }
      ]
    },
    {
      "cell_type": "code",
      "metadata": {
        "colab": {
          "base_uri": "https://localhost:8080/"
        },
        "id": "s71_C3goIG7Z",
        "outputId": "607d92c4-980d-4786-f6ed-cc63aaa011a7"
      },
      "source": [
        "# Check for duplicates\n",
        "ranking.duplicated()\n",
        "ranking.drop_duplicates(inplace=True)\n",
        "ranking.duplicated().value_counts()"
      ],
      "execution_count": 17,
      "outputs": [
        {
          "output_type": "execute_result",
          "data": {
            "text/plain": [
              "False    57756\n",
              "dtype: int64"
            ]
          },
          "metadata": {
            "tags": []
          },
          "execution_count": 17
        }
      ]
    },
    {
      "cell_type": "markdown",
      "metadata": {
        "id": "odYdY52GIo8S"
      },
      "source": [
        " Results "
      ]
    },
    {
      "cell_type": "code",
      "metadata": {
        "colab": {
          "base_uri": "https://localhost:8080/"
        },
        "id": "nal10WnhmDCl",
        "outputId": "5e516111-b981-44c4-81f4-3fba81d08d38"
      },
      "source": [
        "results.info()"
      ],
      "execution_count": 18,
      "outputs": [
        {
          "output_type": "stream",
          "text": [
            "<class 'pandas.core.frame.DataFrame'>\n",
            "Int64Index: 21898 entries, 17922 to 39819\n",
            "Data columns (total 10 columns):\n",
            " #   Column      Non-Null Count  Dtype         \n",
            "---  ------      --------------  -----         \n",
            " 0   date        21898 non-null  datetime64[ns]\n",
            " 1   home_team   21898 non-null  object        \n",
            " 2   away_team   21898 non-null  object        \n",
            " 3   home_score  21898 non-null  int64         \n",
            " 4   away_score  21898 non-null  int64         \n",
            " 5   tournament  21898 non-null  object        \n",
            " 6   city        21898 non-null  object        \n",
            " 7   country     21898 non-null  object        \n",
            " 8   neutral     21898 non-null  bool          \n",
            " 9   year        21898 non-null  int64         \n",
            "dtypes: bool(1), datetime64[ns](1), int64(3), object(5)\n",
            "memory usage: 1.7+ MB\n"
          ],
          "name": "stdout"
        }
      ]
    },
    {
      "cell_type": "code",
      "metadata": {
        "id": "aaSJeMZUlu8j"
      },
      "source": [
        "# Drop unnecessary columns\n",
        "results=results.drop(columns=['city','country'])"
      ],
      "execution_count": 19,
      "outputs": []
    },
    {
      "cell_type": "code",
      "metadata": {
        "colab": {
          "base_uri": "https://localhost:8080/",
          "height": 142
        },
        "id": "IkfhLh4WtC2R",
        "outputId": "aeaa7528-add7-4d48-e8bb-5113a9e1c4b7"
      },
      "source": [
        "#Creating a new column 'Status' \n",
        "def f(row):\n",
        "    if row['home_score'] == row['away_score']:\n",
        "        value = 'Draw'\n",
        "    elif row['home_score'] < row['away_score']:\n",
        "        value = 'Loss'\n",
        "    else:\n",
        "        value = 'Win'\n",
        "    return value\n",
        "\n",
        "results['outcome'] = results.apply(f, axis=1)\n",
        "\n",
        "results.head(3)"
      ],
      "execution_count": 20,
      "outputs": [
        {
          "output_type": "execute_result",
          "data": {
            "text/html": [
              "<div>\n",
              "<style scoped>\n",
              "    .dataframe tbody tr th:only-of-type {\n",
              "        vertical-align: middle;\n",
              "    }\n",
              "\n",
              "    .dataframe tbody tr th {\n",
              "        vertical-align: top;\n",
              "    }\n",
              "\n",
              "    .dataframe thead th {\n",
              "        text-align: right;\n",
              "    }\n",
              "</style>\n",
              "<table border=\"1\" class=\"dataframe\">\n",
              "  <thead>\n",
              "    <tr style=\"text-align: right;\">\n",
              "      <th></th>\n",
              "      <th>date</th>\n",
              "      <th>home_team</th>\n",
              "      <th>away_team</th>\n",
              "      <th>home_score</th>\n",
              "      <th>away_score</th>\n",
              "      <th>tournament</th>\n",
              "      <th>neutral</th>\n",
              "      <th>year</th>\n",
              "      <th>outcome</th>\n",
              "    </tr>\n",
              "  </thead>\n",
              "  <tbody>\n",
              "    <tr>\n",
              "      <th>17922</th>\n",
              "      <td>1993-08-09</td>\n",
              "      <td>Guinea</td>\n",
              "      <td>Sierra Leone</td>\n",
              "      <td>4</td>\n",
              "      <td>0</td>\n",
              "      <td>Friendly</td>\n",
              "      <td>False</td>\n",
              "      <td>1993</td>\n",
              "      <td>Win</td>\n",
              "    </tr>\n",
              "    <tr>\n",
              "      <th>17923</th>\n",
              "      <td>1993-08-11</td>\n",
              "      <td>Faroe Islands</td>\n",
              "      <td>Norway</td>\n",
              "      <td>0</td>\n",
              "      <td>7</td>\n",
              "      <td>Friendly</td>\n",
              "      <td>False</td>\n",
              "      <td>1993</td>\n",
              "      <td>Loss</td>\n",
              "    </tr>\n",
              "    <tr>\n",
              "      <th>17924</th>\n",
              "      <td>1993-08-11</td>\n",
              "      <td>Sweden</td>\n",
              "      <td>Switzerland</td>\n",
              "      <td>1</td>\n",
              "      <td>2</td>\n",
              "      <td>Friendly</td>\n",
              "      <td>False</td>\n",
              "      <td>1993</td>\n",
              "      <td>Loss</td>\n",
              "    </tr>\n",
              "  </tbody>\n",
              "</table>\n",
              "</div>"
            ],
            "text/plain": [
              "            date      home_team     away_team  ...  neutral  year outcome\n",
              "17922 1993-08-09         Guinea  Sierra Leone  ...    False  1993     Win\n",
              "17923 1993-08-11  Faroe Islands        Norway  ...    False  1993    Loss\n",
              "17924 1993-08-11         Sweden   Switzerland  ...    False  1993    Loss\n",
              "\n",
              "[3 rows x 9 columns]"
            ]
          },
          "metadata": {
            "tags": []
          },
          "execution_count": 20
        }
      ]
    },
    {
      "cell_type": "code",
      "metadata": {
        "colab": {
          "base_uri": "https://localhost:8080/",
          "height": 662
        },
        "id": "1Spyo-hOC1E5",
        "outputId": "5807ee55-2987-4695-82d8-3ddabaaf7840"
      },
      "source": [
        "# Check for outliers \n",
        "# Home scores\n",
        "sns.boxplot(results['home_score'],color='violet')\n",
        "plt.title('Home score boxplot')\n",
        "plt.show()\n",
        "# Away scores\n",
        "sns.boxplot(results['away_score'],color='red')\n",
        "plt.title('Away score boxplot')\n",
        "plt.show()\n"
      ],
      "execution_count": 21,
      "outputs": [
        {
          "output_type": "stream",
          "text": [
            "/usr/local/lib/python3.7/dist-packages/seaborn/_decorators.py:43: FutureWarning: Pass the following variable as a keyword arg: x. From version 0.12, the only valid positional argument will be `data`, and passing other arguments without an explicit keyword will result in an error or misinterpretation.\n",
            "  FutureWarning\n"
          ],
          "name": "stderr"
        },
        {
          "output_type": "display_data",
          "data": {
            "image/png": "[encoded data removed]",
            "text/plain": [
              "<Figure size 432x288 with 1 Axes>"
            ]
          },
          "metadata": {
            "tags": [],
            "needs_background": "light"
          }
        },
        {
          "output_type": "stream",
          "text": [
            "/usr/local/lib/python3.7/dist-packages/seaborn/_decorators.py:43: FutureWarning: Pass the following variable as a keyword arg: x. From version 0.12, the only valid positional argument will be `data`, and passing other arguments without an explicit keyword will result in an error or misinterpretation.\n",
            "  FutureWarning\n"
          ],
          "name": "stderr"
        },
        {
          "output_type": "display_data",
          "data": {
            "image/png": "[encoded data removed]",
            "text/plain": [
              "<Figure size 432x288 with 1 Axes>"
            ]
          },
          "metadata": {
            "tags": [],
            "needs_background": "light"
          }
        }
      ]
    },
    {
      "cell_type": "code",
      "metadata": {
        "colab": {
          "base_uri": "https://localhost:8080/"
        },
        "id": "Oxf1e7VnESCo",
        "outputId": "9b7766e0-1d41-48ec-cffa-66dc2e8f550e"
      },
      "source": [
        "# remove outliers using IQR method\n",
        "\n",
        "Q3 = results[['away_score','home_score']].quantile(0.75)\n",
        "Q1 = results[['away_score','home_score']].quantile(0.25)\n",
        "IQR = Q3 - Q1\n",
        "\n",
        "IQR\n",
        "\n",
        "\n",
        "results[['away_score','home_score']] = results[['away_score','home_score']][~((results[['away_score','home_score']] < (Q1 - 1.5 * IQR)) |(results[['away_score','home_score']] > (Q3 + 1.5 * IQR))).any(axis=1)]\n",
        "results[['away_score','home_score']].shape"
      ],
      "execution_count": 22,
      "outputs": [
        {
          "output_type": "execute_result",
          "data": {
            "text/plain": [
              "(21898, 2)"
            ]
          },
          "metadata": {
            "tags": []
          },
          "execution_count": 22
        }
      ]
    },
    {
      "cell_type": "code",
      "metadata": {
        "id": "AQGTDadUH6je"
      },
      "source": [
        "# Check for null values\n",
        "results.isnull().sum()\n",
        "results.dropna(axis=0,inplace=True)"
      ],
      "execution_count": 23,
      "outputs": []
    },
    {
      "cell_type": "code",
      "metadata": {
        "colab": {
          "base_uri": "https://localhost:8080/"
        },
        "id": "C4nSOJivI1jZ",
        "outputId": "50ec22da-5256-403d-c245-0df7b11a0589"
      },
      "source": [
        "# Duplicates\n",
        "results.duplicated().value_counts()"
      ],
      "execution_count": 24,
      "outputs": [
        {
          "output_type": "execute_result",
          "data": {
            "text/plain": [
              "False    20990\n",
              "dtype: int64"
            ]
          },
          "metadata": {
            "tags": []
          },
          "execution_count": 24
        }
      ]
    },
    {
      "cell_type": "code",
      "metadata": {
        "id": "9qyelZiHj4qd"
      },
      "source": [
        "#Ensuring that country names appear similarly in both datasets\n",
        "results =  results.replace({'Germany DR': 'Germany'})\n",
        "ranking1= ranking1.replace({\"IR Iran\": \"Iran\"})"
      ],
      "execution_count": 25,
      "outputs": []
    },
    {
      "cell_type": "markdown",
      "metadata": {
        "id": "pzNactI5NM3b"
      },
      "source": [
        "Merging the datasets "
      ]
    },
    {
      "cell_type": "code",
      "metadata": {
        "colab": {
          "base_uri": "https://localhost:8080/"
        },
        "id": "i1DDqEnvrZd-",
        "outputId": "5b14d056-8bbe-4850-e34c-24d06db69d7a"
      },
      "source": [
        "# Merging on the hometeam and country and on matchday\n",
        "dataset = results.merge(ranking1, left_on = ['year', 'home_team'],\n",
        "                        right_on = ['year', 'country_full'], how = 'inner')\n",
        "dataset.info()"
      ],
      "execution_count": 26,
      "outputs": [
        {
          "output_type": "stream",
          "text": [
            "<class 'pandas.core.frame.DataFrame'>\n",
            "Int64Index: 18761 entries, 0 to 18760\n",
            "Data columns (total 11 columns):\n",
            " #   Column        Non-Null Count  Dtype         \n",
            "---  ------        --------------  -----         \n",
            " 0   date          18761 non-null  datetime64[ns]\n",
            " 1   home_team     18761 non-null  object        \n",
            " 2   away_team     18761 non-null  object        \n",
            " 3   home_score    18761 non-null  float64       \n",
            " 4   away_score    18761 non-null  float64       \n",
            " 5   tournament    18761 non-null  object        \n",
            " 6   neutral       18761 non-null  bool          \n",
            " 7   year          18761 non-null  int64         \n",
            " 8   outcome       18761 non-null  object        \n",
            " 9   country_full  18761 non-null  object        \n",
            " 10  rank          18761 non-null  float64       \n",
            "dtypes: bool(1), datetime64[ns](1), float64(3), int64(1), object(5)\n",
            "memory usage: 1.6+ MB\n"
          ],
          "name": "stdout"
        }
      ]
    },
    {
      "cell_type": "code",
      "metadata": {
        "colab": {
          "base_uri": "https://localhost:8080/",
          "height": 145
        },
        "id": "1F-QwyyjrkKB",
        "outputId": "0de174ff-001e-4d08-c595-c924b601df2f"
      },
      "source": [
        "# now to get the rank of the away team on the day of the match\n",
        "dataset = dataset.merge(ranking1, left_on = ['year', 'away_team'],\n",
        "                        right_on = ['year', 'country_full'], how = 'inner')\n",
        "\n",
        "dataset.sample(2)"
      ],
      "execution_count": 27,
      "outputs": [
        {
          "output_type": "execute_result",
          "data": {
            "text/html": [
              "<div>\n",
              "<style scoped>\n",
              "    .dataframe tbody tr th:only-of-type {\n",
              "        vertical-align: middle;\n",
              "    }\n",
              "\n",
              "    .dataframe tbody tr th {\n",
              "        vertical-align: top;\n",
              "    }\n",
              "\n",
              "    .dataframe thead th {\n",
              "        text-align: right;\n",
              "    }\n",
              "</style>\n",
              "<table border=\"1\" class=\"dataframe\">\n",
              "  <thead>\n",
              "    <tr style=\"text-align: right;\">\n",
              "      <th></th>\n",
              "      <th>date</th>\n",
              "      <th>home_team</th>\n",
              "      <th>away_team</th>\n",
              "      <th>home_score</th>\n",
              "      <th>away_score</th>\n",
              "      <th>tournament</th>\n",
              "      <th>neutral</th>\n",
              "      <th>year</th>\n",
              "      <th>outcome</th>\n",
              "      <th>country_full_x</th>\n",
              "      <th>rank_x</th>\n",
              "      <th>country_full_y</th>\n",
              "      <th>rank_y</th>\n",
              "    </tr>\n",
              "  </thead>\n",
              "  <tbody>\n",
              "    <tr>\n",
              "      <th>13211</th>\n",
              "      <td>2012-06-11</td>\n",
              "      <td>France</td>\n",
              "      <td>England</td>\n",
              "      <td>1.0</td>\n",
              "      <td>1.0</td>\n",
              "      <td>UEFA Euro</td>\n",
              "      <td>True</td>\n",
              "      <td>2012</td>\n",
              "      <td>Draw</td>\n",
              "      <td>France</td>\n",
              "      <td>15.416667</td>\n",
              "      <td>England</td>\n",
              "      <td>5.250000</td>\n",
              "    </tr>\n",
              "    <tr>\n",
              "      <th>10818</th>\n",
              "      <td>2009-10-10</td>\n",
              "      <td>Estonia</td>\n",
              "      <td>Bosnia and Herzegovina</td>\n",
              "      <td>0.0</td>\n",
              "      <td>2.0</td>\n",
              "      <td>FIFA World Cup qualification</td>\n",
              "      <td>False</td>\n",
              "      <td>2009</td>\n",
              "      <td>Loss</td>\n",
              "      <td>Estonia</td>\n",
              "      <td>112.666667</td>\n",
              "      <td>Bosnia and Herzegovina</td>\n",
              "      <td>47.166667</td>\n",
              "    </tr>\n",
              "  </tbody>\n",
              "</table>\n",
              "</div>"
            ],
            "text/plain": [
              "            date home_team  ...          country_full_y     rank_y\n",
              "13211 2012-06-11    France  ...                 England   5.250000\n",
              "10818 2009-10-10   Estonia  ...  Bosnia and Herzegovina  47.166667\n",
              "\n",
              "[2 rows x 13 columns]"
            ]
          },
          "metadata": {
            "tags": []
          },
          "execution_count": 27
        }
      ]
    },
    {
      "cell_type": "code",
      "metadata": {
        "colab": {
          "base_uri": "https://localhost:8080/"
        },
        "id": "IYv-MwdX7XRz",
        "outputId": "b241f678-0fb0-4067-ac76-b45378c552d5"
      },
      "source": [
        "print(dataset.shape)\n",
        "dataset.columns"
      ],
      "execution_count": 28,
      "outputs": [
        {
          "output_type": "stream",
          "text": [
            "(17176, 13)\n"
          ],
          "name": "stdout"
        },
        {
          "output_type": "execute_result",
          "data": {
            "text/plain": [
              "Index(['date', 'home_team', 'away_team', 'home_score', 'away_score',\n",
              "       'tournament', 'neutral', 'year', 'outcome', 'country_full_x', 'rank_x',\n",
              "       'country_full_y', 'rank_y'],\n",
              "      dtype='object')"
            ]
          },
          "metadata": {
            "tags": []
          },
          "execution_count": 28
        }
      ]
    },
    {
      "cell_type": "code",
      "metadata": {
        "colab": {
          "base_uri": "https://localhost:8080/",
          "height": 204
        },
        "id": "FYDHU7O-7ato",
        "outputId": "c94fe4f9-a05e-4233-9c86-b9589d6af2dd"
      },
      "source": [
        "# Drop columns\n",
        "df=dataset.drop(columns=['country_full_y','country_full_x','year',])\n",
        "df.head()"
      ],
      "execution_count": 29,
      "outputs": [
        {
          "output_type": "execute_result",
          "data": {
            "text/html": [
              "<div>\n",
              "<style scoped>\n",
              "    .dataframe tbody tr th:only-of-type {\n",
              "        vertical-align: middle;\n",
              "    }\n",
              "\n",
              "    .dataframe tbody tr th {\n",
              "        vertical-align: top;\n",
              "    }\n",
              "\n",
              "    .dataframe thead th {\n",
              "        text-align: right;\n",
              "    }\n",
              "</style>\n",
              "<table border=\"1\" class=\"dataframe\">\n",
              "  <thead>\n",
              "    <tr style=\"text-align: right;\">\n",
              "      <th></th>\n",
              "      <th>date</th>\n",
              "      <th>home_team</th>\n",
              "      <th>away_team</th>\n",
              "      <th>home_score</th>\n",
              "      <th>away_score</th>\n",
              "      <th>tournament</th>\n",
              "      <th>neutral</th>\n",
              "      <th>outcome</th>\n",
              "      <th>rank_x</th>\n",
              "      <th>rank_y</th>\n",
              "    </tr>\n",
              "  </thead>\n",
              "  <tbody>\n",
              "    <tr>\n",
              "      <th>0</th>\n",
              "      <td>1993-08-09</td>\n",
              "      <td>Guinea</td>\n",
              "      <td>Sierra Leone</td>\n",
              "      <td>4.0</td>\n",
              "      <td>0.0</td>\n",
              "      <td>Friendly</td>\n",
              "      <td>False</td>\n",
              "      <td>Win</td>\n",
              "      <td>62.00</td>\n",
              "      <td>80.5</td>\n",
              "    </tr>\n",
              "    <tr>\n",
              "      <th>1</th>\n",
              "      <td>1993-11-28</td>\n",
              "      <td>Guinea</td>\n",
              "      <td>Gambia</td>\n",
              "      <td>1.0</td>\n",
              "      <td>2.0</td>\n",
              "      <td>Amílcar Cabral Cup</td>\n",
              "      <td>True</td>\n",
              "      <td>Loss</td>\n",
              "      <td>62.00</td>\n",
              "      <td>145.5</td>\n",
              "    </tr>\n",
              "    <tr>\n",
              "      <th>2</th>\n",
              "      <td>1993-11-30</td>\n",
              "      <td>Sierra Leone</td>\n",
              "      <td>Gambia</td>\n",
              "      <td>1.0</td>\n",
              "      <td>1.0</td>\n",
              "      <td>Amílcar Cabral Cup</td>\n",
              "      <td>False</td>\n",
              "      <td>Draw</td>\n",
              "      <td>80.50</td>\n",
              "      <td>145.5</td>\n",
              "    </tr>\n",
              "    <tr>\n",
              "      <th>3</th>\n",
              "      <td>1993-08-11</td>\n",
              "      <td>Sweden</td>\n",
              "      <td>Switzerland</td>\n",
              "      <td>1.0</td>\n",
              "      <td>2.0</td>\n",
              "      <td>Friendly</td>\n",
              "      <td>False</td>\n",
              "      <td>Loss</td>\n",
              "      <td>9.75</td>\n",
              "      <td>11.0</td>\n",
              "    </tr>\n",
              "    <tr>\n",
              "      <th>4</th>\n",
              "      <td>1993-09-08</td>\n",
              "      <td>Scotland</td>\n",
              "      <td>Switzerland</td>\n",
              "      <td>1.0</td>\n",
              "      <td>1.0</td>\n",
              "      <td>FIFA World Cup qualification</td>\n",
              "      <td>False</td>\n",
              "      <td>Draw</td>\n",
              "      <td>26.50</td>\n",
              "      <td>11.0</td>\n",
              "    </tr>\n",
              "  </tbody>\n",
              "</table>\n",
              "</div>"
            ],
            "text/plain": [
              "        date     home_team     away_team  ...  outcome  rank_x rank_y\n",
              "0 1993-08-09        Guinea  Sierra Leone  ...      Win   62.00   80.5\n",
              "1 1993-11-28        Guinea        Gambia  ...     Loss   62.00  145.5\n",
              "2 1993-11-30  Sierra Leone        Gambia  ...     Draw   80.50  145.5\n",
              "3 1993-08-11        Sweden   Switzerland  ...     Loss    9.75   11.0\n",
              "4 1993-09-08      Scotland   Switzerland  ...     Draw   26.50   11.0\n",
              "\n",
              "[5 rows x 10 columns]"
            ]
          },
          "metadata": {
            "tags": []
          },
          "execution_count": 29
        }
      ]
    },
    {
      "cell_type": "code",
      "metadata": {
        "colab": {
          "base_uri": "https://localhost:8080/",
          "height": 204
        },
        "id": "fogvr2Va-K7O",
        "outputId": "481c3b93-4470-4952-968d-94a08081ca50"
      },
      "source": [
        "# Changing column names\n",
        "df.rename(columns={'rank_x':'home_team_rank',\n",
        "                     'rank_y':'away_team_rank',\n",
        "                     }, \n",
        "                 inplace=True)\n",
        " \n",
        "df.head()"
      ],
      "execution_count": 30,
      "outputs": [
        {
          "output_type": "execute_result",
          "data": {
            "text/html": [
              "<div>\n",
              "<style scoped>\n",
              "    .dataframe tbody tr th:only-of-type {\n",
              "        vertical-align: middle;\n",
              "    }\n",
              "\n",
              "    .dataframe tbody tr th {\n",
              "        vertical-align: top;\n",
              "    }\n",
              "\n",
              "    .dataframe thead th {\n",
              "        text-align: right;\n",
              "    }\n",
              "</style>\n",
              "<table border=\"1\" class=\"dataframe\">\n",
              "  <thead>\n",
              "    <tr style=\"text-align: right;\">\n",
              "      <th></th>\n",
              "      <th>date</th>\n",
              "      <th>home_team</th>\n",
              "      <th>away_team</th>\n",
              "      <th>home_score</th>\n",
              "      <th>away_score</th>\n",
              "      <th>tournament</th>\n",
              "      <th>neutral</th>\n",
              "      <th>outcome</th>\n",
              "      <th>home_team_rank</th>\n",
              "      <th>away_team_rank</th>\n",
              "    </tr>\n",
              "  </thead>\n",
              "  <tbody>\n",
              "    <tr>\n",
              "      <th>0</th>\n",
              "      <td>1993-08-09</td>\n",
              "      <td>Guinea</td>\n",
              "      <td>Sierra Leone</td>\n",
              "      <td>4.0</td>\n",
              "      <td>0.0</td>\n",
              "      <td>Friendly</td>\n",
              "      <td>False</td>\n",
              "      <td>Win</td>\n",
              "      <td>62.00</td>\n",
              "      <td>80.5</td>\n",
              "    </tr>\n",
              "    <tr>\n",
              "      <th>1</th>\n",
              "      <td>1993-11-28</td>\n",
              "      <td>Guinea</td>\n",
              "      <td>Gambia</td>\n",
              "      <td>1.0</td>\n",
              "      <td>2.0</td>\n",
              "      <td>Amílcar Cabral Cup</td>\n",
              "      <td>True</td>\n",
              "      <td>Loss</td>\n",
              "      <td>62.00</td>\n",
              "      <td>145.5</td>\n",
              "    </tr>\n",
              "    <tr>\n",
              "      <th>2</th>\n",
              "      <td>1993-11-30</td>\n",
              "      <td>Sierra Leone</td>\n",
              "      <td>Gambia</td>\n",
              "      <td>1.0</td>\n",
              "      <td>1.0</td>\n",
              "      <td>Amílcar Cabral Cup</td>\n",
              "      <td>False</td>\n",
              "      <td>Draw</td>\n",
              "      <td>80.50</td>\n",
              "      <td>145.5</td>\n",
              "    </tr>\n",
              "    <tr>\n",
              "      <th>3</th>\n",
              "      <td>1993-08-11</td>\n",
              "      <td>Sweden</td>\n",
              "      <td>Switzerland</td>\n",
              "      <td>1.0</td>\n",
              "      <td>2.0</td>\n",
              "      <td>Friendly</td>\n",
              "      <td>False</td>\n",
              "      <td>Loss</td>\n",
              "      <td>9.75</td>\n",
              "      <td>11.0</td>\n",
              "    </tr>\n",
              "    <tr>\n",
              "      <th>4</th>\n",
              "      <td>1993-09-08</td>\n",
              "      <td>Scotland</td>\n",
              "      <td>Switzerland</td>\n",
              "      <td>1.0</td>\n",
              "      <td>1.0</td>\n",
              "      <td>FIFA World Cup qualification</td>\n",
              "      <td>False</td>\n",
              "      <td>Draw</td>\n",
              "      <td>26.50</td>\n",
              "      <td>11.0</td>\n",
              "    </tr>\n",
              "  </tbody>\n",
              "</table>\n",
              "</div>"
            ],
            "text/plain": [
              "        date     home_team  ... home_team_rank  away_team_rank\n",
              "0 1993-08-09        Guinea  ...          62.00            80.5\n",
              "1 1993-11-28        Guinea  ...          62.00           145.5\n",
              "2 1993-11-30  Sierra Leone  ...          80.50           145.5\n",
              "3 1993-08-11        Sweden  ...           9.75            11.0\n",
              "4 1993-09-08      Scotland  ...          26.50            11.0\n",
              "\n",
              "[5 rows x 10 columns]"
            ]
          },
          "metadata": {
            "tags": []
          },
          "execution_count": 30
        }
      ]
    },
    {
      "cell_type": "code",
      "metadata": {
        "colab": {
          "base_uri": "https://localhost:8080/",
          "height": 49
        },
        "id": "Mt7gbWS8_SV3",
        "outputId": "76183731-e03d-4b28-e64b-fa88d5ae0107"
      },
      "source": [
        "# Check for duplicates\n",
        "df[df.duplicated()]"
      ],
      "execution_count": 31,
      "outputs": [
        {
          "output_type": "execute_result",
          "data": {
            "text/html": [
              "<div>\n",
              "<style scoped>\n",
              "    .dataframe tbody tr th:only-of-type {\n",
              "        vertical-align: middle;\n",
              "    }\n",
              "\n",
              "    .dataframe tbody tr th {\n",
              "        vertical-align: top;\n",
              "    }\n",
              "\n",
              "    .dataframe thead th {\n",
              "        text-align: right;\n",
              "    }\n",
              "</style>\n",
              "<table border=\"1\" class=\"dataframe\">\n",
              "  <thead>\n",
              "    <tr style=\"text-align: right;\">\n",
              "      <th></th>\n",
              "      <th>date</th>\n",
              "      <th>home_team</th>\n",
              "      <th>away_team</th>\n",
              "      <th>home_score</th>\n",
              "      <th>away_score</th>\n",
              "      <th>tournament</th>\n",
              "      <th>neutral</th>\n",
              "      <th>outcome</th>\n",
              "      <th>home_team_rank</th>\n",
              "      <th>away_team_rank</th>\n",
              "    </tr>\n",
              "  </thead>\n",
              "  <tbody>\n",
              "  </tbody>\n",
              "</table>\n",
              "</div>"
            ],
            "text/plain": [
              "Empty DataFrame\n",
              "Columns: [date, home_team, away_team, home_score, away_score, tournament, neutral, outcome, home_team_rank, away_team_rank]\n",
              "Index: []"
            ]
          },
          "metadata": {
            "tags": []
          },
          "execution_count": 31
        }
      ]
    },
    {
      "cell_type": "code",
      "metadata": {
        "colab": {
          "base_uri": "https://localhost:8080/"
        },
        "id": "XkGw-FI6_8FX",
        "outputId": "4d257c21-ef35-4391-c9b9-6a594f59d6eb"
      },
      "source": [
        "df.info()"
      ],
      "execution_count": 32,
      "outputs": [
        {
          "output_type": "stream",
          "text": [
            "<class 'pandas.core.frame.DataFrame'>\n",
            "Int64Index: 17176 entries, 0 to 17175\n",
            "Data columns (total 10 columns):\n",
            " #   Column          Non-Null Count  Dtype         \n",
            "---  ------          --------------  -----         \n",
            " 0   date            17176 non-null  datetime64[ns]\n",
            " 1   home_team       17176 non-null  object        \n",
            " 2   away_team       17176 non-null  object        \n",
            " 3   home_score      17176 non-null  float64       \n",
            " 4   away_score      17176 non-null  float64       \n",
            " 5   tournament      17176 non-null  object        \n",
            " 6   neutral         17176 non-null  bool          \n",
            " 7   outcome         17176 non-null  object        \n",
            " 8   home_team_rank  17176 non-null  float64       \n",
            " 9   away_team_rank  17176 non-null  float64       \n",
            "dtypes: bool(1), datetime64[ns](1), float64(4), object(4)\n",
            "memory usage: 1.3+ MB\n"
          ],
          "name": "stdout"
        }
      ]
    },
    {
      "cell_type": "markdown",
      "metadata": {
        "id": "QwdacraMPceL"
      },
      "source": [
        "## 4. Exploratory Data Analysis"
      ]
    },
    {
      "cell_type": "code",
      "metadata": {
        "colab": {
          "base_uri": "https://localhost:8080/",
          "height": 506
        },
        "id": "WFAEcdarPi5O",
        "outputId": "8e7f3456-6930-4fe1-b625-f77cf9e963cd"
      },
      "source": [
        "# Statistical description of the data\n",
        "df.describe(include='all')"
      ],
      "execution_count": 33,
      "outputs": [
        {
          "output_type": "stream",
          "text": [
            "/usr/local/lib/python3.7/dist-packages/ipykernel_launcher.py:2: FutureWarning: Treating datetime data as categorical rather than numeric in `.describe` is deprecated and will be removed in a future version of pandas. Specify `datetime_is_numeric=True` to silence this warning and adopt the future behavior now.\n",
            "  \n"
          ],
          "name": "stderr"
        },
        {
          "output_type": "execute_result",
          "data": {
            "text/html": [
              "<div>\n",
              "<style scoped>\n",
              "    .dataframe tbody tr th:only-of-type {\n",
              "        vertical-align: middle;\n",
              "    }\n",
              "\n",
              "    .dataframe tbody tr th {\n",
              "        vertical-align: top;\n",
              "    }\n",
              "\n",
              "    .dataframe thead th {\n",
              "        text-align: right;\n",
              "    }\n",
              "</style>\n",
              "<table border=\"1\" class=\"dataframe\">\n",
              "  <thead>\n",
              "    <tr style=\"text-align: right;\">\n",
              "      <th></th>\n",
              "      <th>date</th>\n",
              "      <th>home_team</th>\n",
              "      <th>away_team</th>\n",
              "      <th>home_score</th>\n",
              "      <th>away_score</th>\n",
              "      <th>tournament</th>\n",
              "      <th>neutral</th>\n",
              "      <th>outcome</th>\n",
              "      <th>home_team_rank</th>\n",
              "      <th>away_team_rank</th>\n",
              "    </tr>\n",
              "  </thead>\n",
              "  <tbody>\n",
              "    <tr>\n",
              "      <th>count</th>\n",
              "      <td>17176</td>\n",
              "      <td>17176</td>\n",
              "      <td>17176</td>\n",
              "      <td>17176.000000</td>\n",
              "      <td>17176.000000</td>\n",
              "      <td>17176</td>\n",
              "      <td>17176</td>\n",
              "      <td>17176</td>\n",
              "      <td>17176.000000</td>\n",
              "      <td>17176.000000</td>\n",
              "    </tr>\n",
              "    <tr>\n",
              "      <th>unique</th>\n",
              "      <td>4678</td>\n",
              "      <td>194</td>\n",
              "      <td>194</td>\n",
              "      <td>NaN</td>\n",
              "      <td>NaN</td>\n",
              "      <td>65</td>\n",
              "      <td>2</td>\n",
              "      <td>3</td>\n",
              "      <td>NaN</td>\n",
              "      <td>NaN</td>\n",
              "    </tr>\n",
              "    <tr>\n",
              "      <th>top</th>\n",
              "      <td>2012-02-29 00:00:00</td>\n",
              "      <td>Mexico</td>\n",
              "      <td>Zambia</td>\n",
              "      <td>NaN</td>\n",
              "      <td>NaN</td>\n",
              "      <td>Friendly</td>\n",
              "      <td>False</td>\n",
              "      <td>Win</td>\n",
              "      <td>NaN</td>\n",
              "      <td>NaN</td>\n",
              "    </tr>\n",
              "    <tr>\n",
              "      <th>freq</th>\n",
              "      <td>56</td>\n",
              "      <td>253</td>\n",
              "      <td>198</td>\n",
              "      <td>NaN</td>\n",
              "      <td>NaN</td>\n",
              "      <td>6608</td>\n",
              "      <td>13018</td>\n",
              "      <td>8169</td>\n",
              "      <td>NaN</td>\n",
              "      <td>NaN</td>\n",
              "    </tr>\n",
              "    <tr>\n",
              "      <th>first</th>\n",
              "      <td>1993-08-09 00:00:00</td>\n",
              "      <td>NaN</td>\n",
              "      <td>NaN</td>\n",
              "      <td>NaN</td>\n",
              "      <td>NaN</td>\n",
              "      <td>NaN</td>\n",
              "      <td>NaN</td>\n",
              "      <td>NaN</td>\n",
              "      <td>NaN</td>\n",
              "      <td>NaN</td>\n",
              "    </tr>\n",
              "    <tr>\n",
              "      <th>last</th>\n",
              "      <td>2018-06-06 00:00:00</td>\n",
              "      <td>NaN</td>\n",
              "      <td>NaN</td>\n",
              "      <td>NaN</td>\n",
              "      <td>NaN</td>\n",
              "      <td>NaN</td>\n",
              "      <td>NaN</td>\n",
              "      <td>NaN</td>\n",
              "      <td>NaN</td>\n",
              "      <td>NaN</td>\n",
              "    </tr>\n",
              "    <tr>\n",
              "      <th>mean</th>\n",
              "      <td>NaN</td>\n",
              "      <td>NaN</td>\n",
              "      <td>NaN</td>\n",
              "      <td>1.465766</td>\n",
              "      <td>1.024569</td>\n",
              "      <td>NaN</td>\n",
              "      <td>NaN</td>\n",
              "      <td>NaN</td>\n",
              "      <td>74.509537</td>\n",
              "      <td>76.689142</td>\n",
              "    </tr>\n",
              "    <tr>\n",
              "      <th>std</th>\n",
              "      <td>NaN</td>\n",
              "      <td>NaN</td>\n",
              "      <td>NaN</td>\n",
              "      <td>1.281054</td>\n",
              "      <td>1.102535</td>\n",
              "      <td>NaN</td>\n",
              "      <td>NaN</td>\n",
              "      <td>NaN</td>\n",
              "      <td>49.569762</td>\n",
              "      <td>50.333277</td>\n",
              "    </tr>\n",
              "    <tr>\n",
              "      <th>min</th>\n",
              "      <td>NaN</td>\n",
              "      <td>NaN</td>\n",
              "      <td>NaN</td>\n",
              "      <td>0.000000</td>\n",
              "      <td>0.000000</td>\n",
              "      <td>NaN</td>\n",
              "      <td>NaN</td>\n",
              "      <td>NaN</td>\n",
              "      <td>1.000000</td>\n",
              "      <td>1.000000</td>\n",
              "    </tr>\n",
              "    <tr>\n",
              "      <th>25%</th>\n",
              "      <td>NaN</td>\n",
              "      <td>NaN</td>\n",
              "      <td>NaN</td>\n",
              "      <td>0.000000</td>\n",
              "      <td>0.000000</td>\n",
              "      <td>NaN</td>\n",
              "      <td>NaN</td>\n",
              "      <td>NaN</td>\n",
              "      <td>32.636364</td>\n",
              "      <td>34.250000</td>\n",
              "    </tr>\n",
              "    <tr>\n",
              "      <th>50%</th>\n",
              "      <td>NaN</td>\n",
              "      <td>NaN</td>\n",
              "      <td>NaN</td>\n",
              "      <td>1.000000</td>\n",
              "      <td>1.000000</td>\n",
              "      <td>NaN</td>\n",
              "      <td>NaN</td>\n",
              "      <td>NaN</td>\n",
              "      <td>68.625000</td>\n",
              "      <td>70.350000</td>\n",
              "    </tr>\n",
              "    <tr>\n",
              "      <th>75%</th>\n",
              "      <td>NaN</td>\n",
              "      <td>NaN</td>\n",
              "      <td>NaN</td>\n",
              "      <td>2.000000</td>\n",
              "      <td>2.000000</td>\n",
              "      <td>NaN</td>\n",
              "      <td>NaN</td>\n",
              "      <td>NaN</td>\n",
              "      <td>108.916667</td>\n",
              "      <td>111.616667</td>\n",
              "    </tr>\n",
              "    <tr>\n",
              "      <th>max</th>\n",
              "      <td>NaN</td>\n",
              "      <td>NaN</td>\n",
              "      <td>NaN</td>\n",
              "      <td>5.000000</td>\n",
              "      <td>5.000000</td>\n",
              "      <td>NaN</td>\n",
              "      <td>NaN</td>\n",
              "      <td>NaN</td>\n",
              "      <td>207.916667</td>\n",
              "      <td>207.000000</td>\n",
              "    </tr>\n",
              "  </tbody>\n",
              "</table>\n",
              "</div>"
            ],
            "text/plain": [
              "                       date home_team  ... home_team_rank  away_team_rank\n",
              "count                 17176     17176  ...   17176.000000    17176.000000\n",
              "unique                 4678       194  ...            NaN             NaN\n",
              "top     2012-02-29 00:00:00    Mexico  ...            NaN             NaN\n",
              "freq                     56       253  ...            NaN             NaN\n",
              "first   1993-08-09 00:00:00       NaN  ...            NaN             NaN\n",
              "last    2018-06-06 00:00:00       NaN  ...            NaN             NaN\n",
              "mean                    NaN       NaN  ...      74.509537       76.689142\n",
              "std                     NaN       NaN  ...      49.569762       50.333277\n",
              "min                     NaN       NaN  ...       1.000000        1.000000\n",
              "25%                     NaN       NaN  ...      32.636364       34.250000\n",
              "50%                     NaN       NaN  ...      68.625000       70.350000\n",
              "75%                     NaN       NaN  ...     108.916667      111.616667\n",
              "max                     NaN       NaN  ...     207.916667      207.000000\n",
              "\n",
              "[13 rows x 10 columns]"
            ]
          },
          "metadata": {
            "tags": []
          },
          "execution_count": 33
        }
      ]
    },
    {
      "cell_type": "code",
      "metadata": {
        "colab": {
          "base_uri": "https://localhost:8080/",
          "height": 365
        },
        "id": "Sjgfy8SlP-lL",
        "outputId": "e2c61c37-7bee-495d-8c1b-c021d24ea677"
      },
      "source": [
        "# Distribution of the venue of the match\n",
        "venue=df['neutral'].value_counts()\n",
        "print(venue)\n",
        "venue.plot(kind='bar',color = ( 'purple','orange'),)\n",
        "plt.title('Did the match occur at a neutral location?')"
      ],
      "execution_count": 34,
      "outputs": [
        {
          "output_type": "stream",
          "text": [
            "False    13018\n",
            "True      4158\n",
            "Name: neutral, dtype: int64\n"
          ],
          "name": "stdout"
        },
        {
          "output_type": "execute_result",
          "data": {
            "text/plain": [
              "Text(0.5, 1.0, 'Did the match occur at a neutral location?')"
            ]
          },
          "metadata": {
            "tags": []
          },
          "execution_count": 34
        },
        {
          "output_type": "display_data",
          "data": {
            "image/png": "[encoded data removed]",
            "text/plain": [
              "<Figure size 432x288 with 1 Axes>"
            ]
          },
          "metadata": {
            "tags": [],
            "needs_background": "light"
          }
        }
      ]
    },
    {
      "cell_type": "code",
      "metadata": {
        "colab": {
          "base_uri": "https://localhost:8080/",
          "height": 458
        },
        "id": "MAZ2Lf9Eaw_3",
        "outputId": "f6e53728-a757-4a61-d12c-7f1983fbcd9f"
      },
      "source": [
        "# Match outcome as per the home team perspective\n",
        "outcome=df['outcome'].value_counts()\n",
        "print(outcome)\n",
        "outcome.plot(kind='pie',autopct = '%0.1f%%', figsize = [8, 6],startangle=90)\n",
        "\n",
        "plt.title('Match outcome per home team')"
      ],
      "execution_count": 35,
      "outputs": [
        {
          "output_type": "stream",
          "text": [
            "Win     8169\n",
            "Loss    4718\n",
            "Draw    4289\n",
            "Name: outcome, dtype: int64\n"
          ],
          "name": "stdout"
        },
        {
          "output_type": "execute_result",
          "data": {
            "text/plain": [
              "Text(0.5, 1.0, 'Match outcome per home team')"
            ]
          },
          "metadata": {
            "tags": []
          },
          "execution_count": 35
        },
        {
          "output_type": "display_data",
          "data": {
            "image/png": "[encoded data removed]",
            "text/plain": [
              "<Figure size 576x432 with 1 Axes>"
            ]
          },
          "metadata": {
            "tags": []
          }
        }
      ]
    },
    {
      "cell_type": "code",
      "metadata": {
        "colab": {
          "base_uri": "https://localhost:8080/",
          "height": 584
        },
        "id": "xX1DguZrSxyq",
        "outputId": "954dbc6c-8e4d-40a4-fa5b-e04d40bde854"
      },
      "source": [
        "# Tournament Frequencies\n",
        "tournament=df['tournament'].value_counts()\n",
        "print(tournament[:15,])\n",
        "tournament[:15,].sort_values().plot(kind = 'barh')\n",
        "plt.title('Top 15 tournaments and frequencies')\n",
        "plt.xlabel('Frequency')"
      ],
      "execution_count": 36,
      "outputs": [
        {
          "output_type": "stream",
          "text": [
            "Friendly                                6608\n",
            "FIFA World Cup qualification            3898\n",
            "UEFA Euro qualification                 1352\n",
            "African Cup of Nations qualification     879\n",
            "AFC Asian Cup qualification              387\n",
            "FIFA World Cup                           308\n",
            "African Cup of Nations                   303\n",
            "CECAFA Cup                               303\n",
            "COSAFA Cup                               226\n",
            "Copa América                             217\n",
            "UEFA Euro                                202\n",
            "African Nations Championship             185\n",
            "AFF Championship                         168\n",
            "CFU Caribbean Cup qualification          167\n",
            "Gold Cup                                 165\n",
            "Name: tournament, dtype: int64\n"
          ],
          "name": "stdout"
        },
        {
          "output_type": "execute_result",
          "data": {
            "text/plain": [
              "Text(0.5, 0, 'Frequency')"
            ]
          },
          "metadata": {
            "tags": []
          },
          "execution_count": 36
        },
        {
          "output_type": "display_data",
          "data": {
            "image/png": "[encoded data removed]",
            "text/plain": [
              "<Figure size 432x288 with 1 Axes>"
            ]
          },
          "metadata": {
            "tags": [],
            "needs_background": "light"
          }
        }
      ]
    },
    {
      "cell_type": "markdown",
      "metadata": {
        "id": "q9yT4Q63XMCl"
      },
      "source": [
        "Since most cups, tournaments, championships etc are competitive matches, we group into friendly and competitive matches.\n",
        "We assume a team can field a weaker team in the frendlies but a strong one in competitive matches hence can affect results"
      ]
    },
    {
      "cell_type": "code",
      "metadata": {
        "colab": {
          "base_uri": "https://localhost:8080/",
          "height": 349
        },
        "id": "MqL_iRGkSeLV",
        "outputId": "33772cc3-fe5d-4a5f-d9b3-e62e2004c84f"
      },
      "source": [
        "# Check match type and frequency\n",
        "df.loc[df.tournament != 'Friendly', 'tournament'] = 'Competitive'\n",
        "print(df['tournament'].value_counts())\n",
        "df['tournament'].value_counts().plot(kind='bar',rot=0)\n",
        "plt.title('Type of match')\n",
        "plt.ylabel('Frequency')"
      ],
      "execution_count": 37,
      "outputs": [
        {
          "output_type": "stream",
          "text": [
            "Competitive    10568\n",
            "Friendly        6608\n",
            "Name: tournament, dtype: int64\n"
          ],
          "name": "stdout"
        },
        {
          "output_type": "execute_result",
          "data": {
            "text/plain": [
              "Text(0, 0.5, 'Frequency')"
            ]
          },
          "metadata": {
            "tags": []
          },
          "execution_count": 37
        },
        {
          "output_type": "display_data",
          "data": {
            "image/png": "[encoded data removed]",
            "text/plain": [
              "<Figure size 432x288 with 1 Axes>"
            ]
          },
          "metadata": {
            "tags": [],
            "needs_background": "light"
          }
        }
      ]
    },
    {
      "cell_type": "code",
      "metadata": {
        "colab": {
          "base_uri": "https://localhost:8080/",
          "height": 204
        },
        "id": "vCMVZqA_X4co",
        "outputId": "806cb6e4-fa57-48f1-830a-49dceef6e685"
      },
      "source": [
        "df.corr()"
      ],
      "execution_count": 38,
      "outputs": [
        {
          "output_type": "execute_result",
          "data": {
            "text/html": [
              "<div>\n",
              "<style scoped>\n",
              "    .dataframe tbody tr th:only-of-type {\n",
              "        vertical-align: middle;\n",
              "    }\n",
              "\n",
              "    .dataframe tbody tr th {\n",
              "        vertical-align: top;\n",
              "    }\n",
              "\n",
              "    .dataframe thead th {\n",
              "        text-align: right;\n",
              "    }\n",
              "</style>\n",
              "<table border=\"1\" class=\"dataframe\">\n",
              "  <thead>\n",
              "    <tr style=\"text-align: right;\">\n",
              "      <th></th>\n",
              "      <th>home_score</th>\n",
              "      <th>away_score</th>\n",
              "      <th>neutral</th>\n",
              "      <th>home_team_rank</th>\n",
              "      <th>away_team_rank</th>\n",
              "    </tr>\n",
              "  </thead>\n",
              "  <tbody>\n",
              "    <tr>\n",
              "      <th>home_score</th>\n",
              "      <td>1.000000</td>\n",
              "      <td>-0.125713</td>\n",
              "      <td>-0.048241</td>\n",
              "      <td>-0.164592</td>\n",
              "      <td>0.267656</td>\n",
              "    </tr>\n",
              "    <tr>\n",
              "      <th>away_score</th>\n",
              "      <td>-0.125713</td>\n",
              "      <td>1.000000</td>\n",
              "      <td>0.072101</td>\n",
              "      <td>0.185617</td>\n",
              "      <td>-0.191566</td>\n",
              "    </tr>\n",
              "    <tr>\n",
              "      <th>neutral</th>\n",
              "      <td>-0.048241</td>\n",
              "      <td>0.072101</td>\n",
              "      <td>1.000000</td>\n",
              "      <td>0.003780</td>\n",
              "      <td>0.026749</td>\n",
              "    </tr>\n",
              "    <tr>\n",
              "      <th>home_team_rank</th>\n",
              "      <td>-0.164592</td>\n",
              "      <td>0.185617</td>\n",
              "      <td>0.003780</td>\n",
              "      <td>1.000000</td>\n",
              "      <td>0.490224</td>\n",
              "    </tr>\n",
              "    <tr>\n",
              "      <th>away_team_rank</th>\n",
              "      <td>0.267656</td>\n",
              "      <td>-0.191566</td>\n",
              "      <td>0.026749</td>\n",
              "      <td>0.490224</td>\n",
              "      <td>1.000000</td>\n",
              "    </tr>\n",
              "  </tbody>\n",
              "</table>\n",
              "</div>"
            ],
            "text/plain": [
              "                home_score  away_score  ...  home_team_rank  away_team_rank\n",
              "home_score        1.000000   -0.125713  ...       -0.164592        0.267656\n",
              "away_score       -0.125713    1.000000  ...        0.185617       -0.191566\n",
              "neutral          -0.048241    0.072101  ...        0.003780        0.026749\n",
              "home_team_rank   -0.164592    0.185617  ...        1.000000        0.490224\n",
              "away_team_rank    0.267656   -0.191566  ...        0.490224        1.000000\n",
              "\n",
              "[5 rows x 5 columns]"
            ]
          },
          "metadata": {
            "tags": []
          },
          "execution_count": 38
        }
      ]
    },
    {
      "cell_type": "markdown",
      "metadata": {
        "id": "MrPVmuCOoM1r"
      },
      "source": [
        "### Feature Engineering\n"
      ]
    },
    {
      "cell_type": "markdown",
      "metadata": {
        "id": "2NXM0s8goQG3"
      },
      "source": [
        "We have already created a match outcome column, which records whether a match was a win, draw or loss from the home teams perspective"
      ]
    },
    {
      "cell_type": "markdown",
      "metadata": {
        "id": "bgDMqm-uojNR"
      },
      "source": [
        "We change the column types and encode them"
      ]
    },
    {
      "cell_type": "code",
      "metadata": {
        "colab": {
          "base_uri": "https://localhost:8080/"
        },
        "id": "Ntc90TMRomHw",
        "outputId": "41d4091f-d650-4615-df65-c05c63f4bdd4"
      },
      "source": [
        "df['tournament'] = df['tournament'].astype('category')\n",
        "df['outcome'] = df['outcome'].astype('category')\n",
        "df['neutral'] = df['neutral'].astype('category')\n",
        "df.info()"
      ],
      "execution_count": 39,
      "outputs": [
        {
          "output_type": "stream",
          "text": [
            "<class 'pandas.core.frame.DataFrame'>\n",
            "Int64Index: 17176 entries, 0 to 17175\n",
            "Data columns (total 10 columns):\n",
            " #   Column          Non-Null Count  Dtype         \n",
            "---  ------          --------------  -----         \n",
            " 0   date            17176 non-null  datetime64[ns]\n",
            " 1   home_team       17176 non-null  object        \n",
            " 2   away_team       17176 non-null  object        \n",
            " 3   home_score      17176 non-null  float64       \n",
            " 4   away_score      17176 non-null  float64       \n",
            " 5   tournament      17176 non-null  category      \n",
            " 6   neutral         17176 non-null  category      \n",
            " 7   outcome         17176 non-null  category      \n",
            " 8   home_team_rank  17176 non-null  float64       \n",
            " 9   away_team_rank  17176 non-null  float64       \n",
            "dtypes: category(3), datetime64[ns](1), float64(4), object(2)\n",
            "memory usage: 1.1+ MB\n"
          ],
          "name": "stdout"
        }
      ]
    },
    {
      "cell_type": "markdown",
      "metadata": {
        "id": "IAyfOV3JpnxI"
      },
      "source": [
        "Label encoding"
      ]
    },
    {
      "cell_type": "markdown",
      "metadata": {
        "id": "WEzucq1t4vVN"
      },
      "source": [
        ""
      ]
    },
    {
      "cell_type": "code",
      "metadata": {
        "colab": {
          "base_uri": "https://localhost:8080/"
        },
        "id": "BOefjcX240G1",
        "outputId": "dc1502ea-015f-4d39-fa30-05a3dd27744b"
      },
      "source": [
        "df['tournament'].value_counts()"
      ],
      "execution_count": 40,
      "outputs": [
        {
          "output_type": "execute_result",
          "data": {
            "text/plain": [
              "Competitive    10568\n",
              "Friendly        6608\n",
              "Name: tournament, dtype: int64"
            ]
          },
          "metadata": {
            "tags": []
          },
          "execution_count": 40
        }
      ]
    },
    {
      "cell_type": "code",
      "metadata": {
        "colab": {
          "base_uri": "https://localhost:8080/",
          "height": 204
        },
        "id": "ZHBI9tpqp0gR",
        "outputId": "4ad07ba5-c503-4bd0-d27d-d7be3c0e37b4"
      },
      "source": [
        "# label_encoder object knows how to understand word labels. \n",
        "label_encoder = LabelEncoder() \n",
        "  \n",
        " \n",
        "df['outcome']= label_encoder.fit_transform(df['outcome'])\n",
        "df['neutral']= label_encoder.fit_transform(df['neutral'])\n",
        "df['tournament']=label_encoder.fit_transform(df['tournament'])\n",
        "df.tail()\n",
        "\n",
        "# Where outcome = 2:win, 1: lose, 0:Draw\n",
        "# Where neutral = 0: False, 1:True\n",
        "# Where tournament = 0: Competitive matches, 1: Friendlies"
      ],
      "execution_count": 41,
      "outputs": [
        {
          "output_type": "execute_result",
          "data": {
            "text/html": [
              "<div>\n",
              "<style scoped>\n",
              "    .dataframe tbody tr th:only-of-type {\n",
              "        vertical-align: middle;\n",
              "    }\n",
              "\n",
              "    .dataframe tbody tr th {\n",
              "        vertical-align: top;\n",
              "    }\n",
              "\n",
              "    .dataframe thead th {\n",
              "        text-align: right;\n",
              "    }\n",
              "</style>\n",
              "<table border=\"1\" class=\"dataframe\">\n",
              "  <thead>\n",
              "    <tr style=\"text-align: right;\">\n",
              "      <th></th>\n",
              "      <th>date</th>\n",
              "      <th>home_team</th>\n",
              "      <th>away_team</th>\n",
              "      <th>home_score</th>\n",
              "      <th>away_score</th>\n",
              "      <th>tournament</th>\n",
              "      <th>neutral</th>\n",
              "      <th>outcome</th>\n",
              "      <th>home_team_rank</th>\n",
              "      <th>away_team_rank</th>\n",
              "    </tr>\n",
              "  </thead>\n",
              "  <tbody>\n",
              "    <tr>\n",
              "      <th>17171</th>\n",
              "      <td>2018-06-03</td>\n",
              "      <td>Costa Rica</td>\n",
              "      <td>Northern Ireland</td>\n",
              "      <td>3.0</td>\n",
              "      <td>0.0</td>\n",
              "      <td>1</td>\n",
              "      <td>0</td>\n",
              "      <td>2</td>\n",
              "      <td>25.6</td>\n",
              "      <td>25.8</td>\n",
              "    </tr>\n",
              "    <tr>\n",
              "      <th>17172</th>\n",
              "      <td>2018-06-01</td>\n",
              "      <td>India</td>\n",
              "      <td>Chinese Taipei</td>\n",
              "      <td>5.0</td>\n",
              "      <td>0.0</td>\n",
              "      <td>0</td>\n",
              "      <td>0</td>\n",
              "      <td>2</td>\n",
              "      <td>99.4</td>\n",
              "      <td>128.8</td>\n",
              "    </tr>\n",
              "    <tr>\n",
              "      <th>17173</th>\n",
              "      <td>2018-06-02</td>\n",
              "      <td>El Salvador</td>\n",
              "      <td>Honduras</td>\n",
              "      <td>1.0</td>\n",
              "      <td>0.0</td>\n",
              "      <td>1</td>\n",
              "      <td>1</td>\n",
              "      <td>2</td>\n",
              "      <td>87.2</td>\n",
              "      <td>62.8</td>\n",
              "    </tr>\n",
              "    <tr>\n",
              "      <th>17174</th>\n",
              "      <td>2018-06-05</td>\n",
              "      <td>Kazakhstan</td>\n",
              "      <td>Azerbaijan</td>\n",
              "      <td>3.0</td>\n",
              "      <td>0.0</td>\n",
              "      <td>1</td>\n",
              "      <td>0</td>\n",
              "      <td>2</td>\n",
              "      <td>128.6</td>\n",
              "      <td>123.2</td>\n",
              "    </tr>\n",
              "    <tr>\n",
              "      <th>17175</th>\n",
              "      <td>2018-06-06</td>\n",
              "      <td>Belarus</td>\n",
              "      <td>Hungary</td>\n",
              "      <td>1.0</td>\n",
              "      <td>1.0</td>\n",
              "      <td>1</td>\n",
              "      <td>0</td>\n",
              "      <td>0</td>\n",
              "      <td>87.4</td>\n",
              "      <td>50.4</td>\n",
              "    </tr>\n",
              "  </tbody>\n",
              "</table>\n",
              "</div>"
            ],
            "text/plain": [
              "            date    home_team  ... home_team_rank  away_team_rank\n",
              "17171 2018-06-03   Costa Rica  ...           25.6            25.8\n",
              "17172 2018-06-01        India  ...           99.4           128.8\n",
              "17173 2018-06-02  El Salvador  ...           87.2            62.8\n",
              "17174 2018-06-05   Kazakhstan  ...          128.6           123.2\n",
              "17175 2018-06-06      Belarus  ...           87.4            50.4\n",
              "\n",
              "[5 rows x 10 columns]"
            ]
          },
          "metadata": {
            "tags": []
          },
          "execution_count": 41
        }
      ]
    },
    {
      "cell_type": "markdown",
      "metadata": {
        "id": "Nb_DSlZDtjoj"
      },
      "source": [
        "Check for Multicollinearity"
      ]
    },
    {
      "cell_type": "code",
      "metadata": {
        "colab": {
          "base_uri": "https://localhost:8080/",
          "height": 266
        },
        "id": "qKdm99pytirS",
        "outputId": "047a3128-2dd1-44f2-889a-9d1014193ee0"
      },
      "source": [
        "# We find the correlation\n",
        "corr=df.corr()\n",
        "corr"
      ],
      "execution_count": 42,
      "outputs": [
        {
          "output_type": "execute_result",
          "data": {
            "text/html": [
              "<div>\n",
              "<style scoped>\n",
              "    .dataframe tbody tr th:only-of-type {\n",
              "        vertical-align: middle;\n",
              "    }\n",
              "\n",
              "    .dataframe tbody tr th {\n",
              "        vertical-align: top;\n",
              "    }\n",
              "\n",
              "    .dataframe thead th {\n",
              "        text-align: right;\n",
              "    }\n",
              "</style>\n",
              "<table border=\"1\" class=\"dataframe\">\n",
              "  <thead>\n",
              "    <tr style=\"text-align: right;\">\n",
              "      <th></th>\n",
              "      <th>home_score</th>\n",
              "      <th>away_score</th>\n",
              "      <th>tournament</th>\n",
              "      <th>neutral</th>\n",
              "      <th>outcome</th>\n",
              "      <th>home_team_rank</th>\n",
              "      <th>away_team_rank</th>\n",
              "    </tr>\n",
              "  </thead>\n",
              "  <tbody>\n",
              "    <tr>\n",
              "      <th>home_score</th>\n",
              "      <td>1.000000</td>\n",
              "      <td>-0.125713</td>\n",
              "      <td>-0.018943</td>\n",
              "      <td>-0.048241</td>\n",
              "      <td>0.561551</td>\n",
              "      <td>-0.164592</td>\n",
              "      <td>0.267656</td>\n",
              "    </tr>\n",
              "    <tr>\n",
              "      <th>away_score</th>\n",
              "      <td>-0.125713</td>\n",
              "      <td>1.000000</td>\n",
              "      <td>-0.021855</td>\n",
              "      <td>0.072101</td>\n",
              "      <td>-0.251279</td>\n",
              "      <td>0.185617</td>\n",
              "      <td>-0.191566</td>\n",
              "    </tr>\n",
              "    <tr>\n",
              "      <th>tournament</th>\n",
              "      <td>-0.018943</td>\n",
              "      <td>-0.021855</td>\n",
              "      <td>1.000000</td>\n",
              "      <td>-0.109422</td>\n",
              "      <td>-0.036101</td>\n",
              "      <td>-0.086949</td>\n",
              "      <td>-0.074293</td>\n",
              "    </tr>\n",
              "    <tr>\n",
              "      <th>neutral</th>\n",
              "      <td>-0.048241</td>\n",
              "      <td>0.072101</td>\n",
              "      <td>-0.109422</td>\n",
              "      <td>1.000000</td>\n",
              "      <td>-0.043579</td>\n",
              "      <td>0.003780</td>\n",
              "      <td>0.026749</td>\n",
              "    </tr>\n",
              "    <tr>\n",
              "      <th>outcome</th>\n",
              "      <td>0.561551</td>\n",
              "      <td>-0.251279</td>\n",
              "      <td>-0.036101</td>\n",
              "      <td>-0.043579</td>\n",
              "      <td>1.000000</td>\n",
              "      <td>-0.118558</td>\n",
              "      <td>0.199449</td>\n",
              "    </tr>\n",
              "    <tr>\n",
              "      <th>home_team_rank</th>\n",
              "      <td>-0.164592</td>\n",
              "      <td>0.185617</td>\n",
              "      <td>-0.086949</td>\n",
              "      <td>0.003780</td>\n",
              "      <td>-0.118558</td>\n",
              "      <td>1.000000</td>\n",
              "      <td>0.490224</td>\n",
              "    </tr>\n",
              "    <tr>\n",
              "      <th>away_team_rank</th>\n",
              "      <td>0.267656</td>\n",
              "      <td>-0.191566</td>\n",
              "      <td>-0.074293</td>\n",
              "      <td>0.026749</td>\n",
              "      <td>0.199449</td>\n",
              "      <td>0.490224</td>\n",
              "      <td>1.000000</td>\n",
              "    </tr>\n",
              "  </tbody>\n",
              "</table>\n",
              "</div>"
            ],
            "text/plain": [
              "                home_score  away_score  ...  home_team_rank  away_team_rank\n",
              "home_score        1.000000   -0.125713  ...       -0.164592        0.267656\n",
              "away_score       -0.125713    1.000000  ...        0.185617       -0.191566\n",
              "tournament       -0.018943   -0.021855  ...       -0.086949       -0.074293\n",
              "neutral          -0.048241    0.072101  ...        0.003780        0.026749\n",
              "outcome           0.561551   -0.251279  ...       -0.118558        0.199449\n",
              "home_team_rank   -0.164592    0.185617  ...        1.000000        0.490224\n",
              "away_team_rank    0.267656   -0.191566  ...        0.490224        1.000000\n",
              "\n",
              "[7 rows x 7 columns]"
            ]
          },
          "metadata": {
            "tags": []
          },
          "execution_count": 42
        }
      ]
    },
    {
      "cell_type": "code",
      "metadata": {
        "colab": {
          "base_uri": "https://localhost:8080/",
          "height": 376
        },
        "id": "zxCwvHI1ttEz",
        "outputId": "4f071aaa-dd01-4eb8-c576-b75f7acfb42b"
      },
      "source": [
        "# We calculate Variance Inflation Factor (VIF)\n",
        "vif=pd.DataFrame(np.linalg.inv(corr.values), index = corr.index, columns=corr.columns)\n",
        "\n",
        "# plot VIF heatmap\n",
        "sns.heatmap(vif,annot=True)\n",
        "plt.figure(figsize = (10,4),)"
      ],
      "execution_count": 43,
      "outputs": [
        {
          "output_type": "execute_result",
          "data": {
            "text/plain": [
              "<Figure size 720x288 with 0 Axes>"
            ]
          },
          "metadata": {
            "tags": []
          },
          "execution_count": 43
        },
        {
          "output_type": "display_data",
          "data": {
            "image/png": "[encoded data removed]",
            "text/plain": [
              "<Figure size 432x288 with 2 Axes>"
            ]
          },
          "metadata": {
            "tags": [],
            "needs_background": "light"
          }
        },
        {
          "output_type": "display_data",
          "data": {
            "text/plain": [
              "<Figure size 720x288 with 0 Axes>"
            ]
          },
          "metadata": {
            "tags": []
          }
        }
      ]
    },
    {
      "cell_type": "markdown",
      "metadata": {
        "id": "Zy2pKc1FvxCF"
      },
      "source": [
        "## 5. Regression Analysis"
      ]
    },
    {
      "cell_type": "markdown",
      "metadata": {
        "id": "ltpx7OOGmwXr"
      },
      "source": [
        "### a) Polynomial Regression\n"
      ]
    },
    {
      "cell_type": "markdown",
      "metadata": {
        "id": "Edx0oHJawO98"
      },
      "source": [
        "Question\n",
        "What to train given:\n",
        "\n",
        "1. Rank of home team\n",
        "2. Rank of away team\n",
        "3. Tournament type\n",
        "\n",
        "Model 1: Predict how many goals the home team scores.\n",
        "\n",
        "Model 2: Predict how many goals the away team scores."
      ]
    },
    {
      "cell_type": "markdown",
      "metadata": {
        "id": "XMBzSgAdvmTN"
      },
      "source": [
        "#### i) Model 1: Predicting goals scored by home team"
      ]
    },
    {
      "cell_type": "code",
      "metadata": {
        "colab": {
          "base_uri": "https://localhost:8080/",
          "height": 297
        },
        "id": "bt20TZnH5ymh",
        "outputId": "6331711e-1d45-46ca-eeb3-2228ff41bec7"
      },
      "source": [
        "df[['home_score','away_score','home_team_rank','away_team_rank','tournament']].describe()"
      ],
      "execution_count": 44,
      "outputs": [
        {
          "output_type": "execute_result",
          "data": {
            "text/html": [
              "<div>\n",
              "<style scoped>\n",
              "    .dataframe tbody tr th:only-of-type {\n",
              "        vertical-align: middle;\n",
              "    }\n",
              "\n",
              "    .dataframe tbody tr th {\n",
              "        vertical-align: top;\n",
              "    }\n",
              "\n",
              "    .dataframe thead th {\n",
              "        text-align: right;\n",
              "    }\n",
              "</style>\n",
              "<table border=\"1\" class=\"dataframe\">\n",
              "  <thead>\n",
              "    <tr style=\"text-align: right;\">\n",
              "      <th></th>\n",
              "      <th>home_score</th>\n",
              "      <th>away_score</th>\n",
              "      <th>home_team_rank</th>\n",
              "      <th>away_team_rank</th>\n",
              "      <th>tournament</th>\n",
              "    </tr>\n",
              "  </thead>\n",
              "  <tbody>\n",
              "    <tr>\n",
              "      <th>count</th>\n",
              "      <td>17176.000000</td>\n",
              "      <td>17176.000000</td>\n",
              "      <td>17176.000000</td>\n",
              "      <td>17176.000000</td>\n",
              "      <td>17176.000000</td>\n",
              "    </tr>\n",
              "    <tr>\n",
              "      <th>mean</th>\n",
              "      <td>1.465766</td>\n",
              "      <td>1.024569</td>\n",
              "      <td>74.509537</td>\n",
              "      <td>76.689142</td>\n",
              "      <td>0.384723</td>\n",
              "    </tr>\n",
              "    <tr>\n",
              "      <th>std</th>\n",
              "      <td>1.281054</td>\n",
              "      <td>1.102535</td>\n",
              "      <td>49.569762</td>\n",
              "      <td>50.333277</td>\n",
              "      <td>0.486544</td>\n",
              "    </tr>\n",
              "    <tr>\n",
              "      <th>min</th>\n",
              "      <td>0.000000</td>\n",
              "      <td>0.000000</td>\n",
              "      <td>1.000000</td>\n",
              "      <td>1.000000</td>\n",
              "      <td>0.000000</td>\n",
              "    </tr>\n",
              "    <tr>\n",
              "      <th>25%</th>\n",
              "      <td>0.000000</td>\n",
              "      <td>0.000000</td>\n",
              "      <td>32.636364</td>\n",
              "      <td>34.250000</td>\n",
              "      <td>0.000000</td>\n",
              "    </tr>\n",
              "    <tr>\n",
              "      <th>50%</th>\n",
              "      <td>1.000000</td>\n",
              "      <td>1.000000</td>\n",
              "      <td>68.625000</td>\n",
              "      <td>70.350000</td>\n",
              "      <td>0.000000</td>\n",
              "    </tr>\n",
              "    <tr>\n",
              "      <th>75%</th>\n",
              "      <td>2.000000</td>\n",
              "      <td>2.000000</td>\n",
              "      <td>108.916667</td>\n",
              "      <td>111.616667</td>\n",
              "      <td>1.000000</td>\n",
              "    </tr>\n",
              "    <tr>\n",
              "      <th>max</th>\n",
              "      <td>5.000000</td>\n",
              "      <td>5.000000</td>\n",
              "      <td>207.916667</td>\n",
              "      <td>207.000000</td>\n",
              "      <td>1.000000</td>\n",
              "    </tr>\n",
              "  </tbody>\n",
              "</table>\n",
              "</div>"
            ],
            "text/plain": [
              "         home_score    away_score  home_team_rank  away_team_rank    tournament\n",
              "count  17176.000000  17176.000000    17176.000000    17176.000000  17176.000000\n",
              "mean       1.465766      1.024569       74.509537       76.689142      0.384723\n",
              "std        1.281054      1.102535       49.569762       50.333277      0.486544\n",
              "min        0.000000      0.000000        1.000000        1.000000      0.000000\n",
              "25%        0.000000      0.000000       32.636364       34.250000      0.000000\n",
              "50%        1.000000      1.000000       68.625000       70.350000      0.000000\n",
              "75%        2.000000      2.000000      108.916667      111.616667      1.000000\n",
              "max        5.000000      5.000000      207.916667      207.000000      1.000000"
            ]
          },
          "metadata": {
            "tags": []
          },
          "execution_count": 44
        }
      ]
    },
    {
      "cell_type": "code",
      "metadata": {
        "colab": {
          "base_uri": "https://localhost:8080/"
        },
        "id": "0p2LLU4pvjdB",
        "outputId": "5650085c-df60-45b5-e9a9-3a0f0a47133a"
      },
      "source": [
        "# Get our dependent and independent variables\n",
        "X1=df[['home_team_rank','away_team_rank','tournament']].values\n",
        "y1=df['home_score'].values\n",
        "\n",
        "print(X1.shape)\n",
        "print(y1.shape)\n",
        "\n"
      ],
      "execution_count": 45,
      "outputs": [
        {
          "output_type": "stream",
          "text": [
            "(17176, 3)\n",
            "(17176,)\n"
          ],
          "name": "stdout"
        }
      ]
    },
    {
      "cell_type": "code",
      "metadata": {
        "id": "wUO4GQTN0QvW"
      },
      "source": [
        "# Splitting the dataset to get the train and test sets\n",
        "X1_train, y1_train, X1_test, y1_test = train_test_split(X1,y1, test_size = 0.2, random_state=0)\n",
        "\n"
      ],
      "execution_count": 46,
      "outputs": []
    },
    {
      "cell_type": "code",
      "metadata": {
        "colab": {
          "base_uri": "https://localhost:8080/"
        },
        "id": "Mj1vgAE11bOD",
        "outputId": "783e6971-1883-4622-e4d5-d24661c6df82"
      },
      "source": [
        "# Fit Linear Regression model to the dataset(this is optional. We are doing this for the sole purpose of comparing the linear regression model to the polynomial regression model)\n",
        "reg_line = LinearRegression()\n",
        "reg_line.fit(X1,y1)\n",
        "\n",
        "# Fit polynomial Regression to the dataset\n",
        "poly_reg = PolynomialFeatures(degree = 5) \n",
        "X_poly = poly_reg.fit_transform(X1)\n",
        "\n",
        "pol_reg = LinearRegression()\n",
        "pol_reg.fit(X_poly, y1)\n",
        "\n",
        "\n",
        "pol_reg.predict(poly_reg.fit_transform([[93,2,0]]))"
      ],
      "execution_count": 47,
      "outputs": [
        {
          "output_type": "execute_result",
          "data": {
            "text/plain": [
              "array([0.58877021])"
            ]
          },
          "metadata": {
            "tags": []
          },
          "execution_count": 47
        }
      ]
    },
    {
      "cell_type": "code",
      "metadata": {
        "colab": {
          "base_uri": "https://localhost:8080/"
        },
        "id": "QjNfhDrZSw6p",
        "outputId": "2610dc75-de32-466b-97c8-7a2bdf8a4c18"
      },
      "source": [
        "# Hometeam rank,away rank, tournament examples\n",
        "# (1,83,0),(93,2,0),(60,57,1)\n",
        "print(pol_reg.predict(poly_reg.fit_transform([[1,83,0]])))\n",
        "print(pol_reg.predict(poly_reg.fit_transform([[93,2,0]])))\n",
        "print(pol_reg.predict(poly_reg.fit_transform([[60,57,1]])))"
      ],
      "execution_count": 76,
      "outputs": [
        {
          "output_type": "stream",
          "text": [
            "[0.44123065]\n",
            "[2.07289805]\n",
            "[1.00339925]\n"
          ],
          "name": "stdout"
        }
      ]
    },
    {
      "cell_type": "markdown",
      "metadata": {
        "id": "1gwacRbZTG1H"
      },
      "source": [
        "We can see a higher ranked team playing a lower ranked home team will surely score more goals than the lower ranked home team playing against a higher ranked team"
      ]
    },
    {
      "cell_type": "markdown",
      "metadata": {
        "id": "79dokkKeHACH"
      },
      "source": [
        "Cross- Validation Model 1"
      ]
    },
    {
      "cell_type": "markdown",
      "metadata": {
        "id": "6T93U3jgLhsN"
      },
      "source": [
        "Using KFold"
      ]
    },
    {
      "cell_type": "code",
      "metadata": {
        "colab": {
          "base_uri": "https://localhost:8080/"
        },
        "id": "MmJmjS_YK4uW",
        "outputId": "8e7ced51-6b58-4ed8-8a52-b33cf17d01b5"
      },
      "source": [
        "X1=df[['home_team_rank','away_team_rank','tournament']].values\n",
        "y1=df['home_score'].values\n",
        "folds = KFold(n_splits=5)\n",
        "\n",
        "# note that if you have a KFold object, you can figure out how many folds you set up \n",
        "# for it using get_n_splits\n",
        "print('we are using ' +str(folds.get_n_splits(X1)) + ' folds')\n",
        "\n",
        "# We now create and assess 5 models based on the folds we created.\n",
        "RMSES = [] # We will use this array to keep track of the RSME of each model\n",
        "count = 1 # This will just help \n",
        "for train_index, test_index in folds.split(X1):\n",
        "  print('\\nTraining model ' + str(count))\n",
        "  \n",
        "  # set up the train and test based on the split determined by KFold\n",
        "  # With 5 folds, we will end up with 80% of our data in the training set, and 20% in the test set, just as above\n",
        "  X1_train, X1_test = X1[train_index], X1[test_index]\n",
        "  y1_train, y1_test = y1[train_index], y1[test_index]\n",
        "  \n",
        "  # fit a model accordingly\n",
        "  regressor = LinearRegression()  \n",
        "  regressor.fit(X1_train, y1_train)\n",
        "  \n",
        "  # assess the accuraccy of the model\n",
        "  y1_pred = regressor.predict(X1_test)\n",
        "  \n",
        "  rmse_value =  np.sqrt(metrics.mean_squared_error(y1_test, y1_pred))\n",
        "  RMSES.append(rmse_value)\n",
        "  \n",
        "  print('Model ' + str(count) + ' Root Mean Squared Error:',rmse_value)\n",
        "  count = count + 1\n",
        "np.mean(RMSES)"
      ],
      "execution_count": 50,
      "outputs": [
        {
          "output_type": "stream",
          "text": [
            "we are using 5 folds\n",
            "\n",
            "Training model 1\n",
            "Model 1 Root Mean Squared Error: 1.1740133398565835\n",
            "\n",
            "Training model 2\n",
            "Model 2 Root Mean Squared Error: 1.1835818070777766\n",
            "\n",
            "Training model 3\n",
            "Model 3 Root Mean Squared Error: 1.1240950172330275\n",
            "\n",
            "Training model 4\n",
            "Model 4 Root Mean Squared Error: 1.1647993729222994\n",
            "\n",
            "Training model 5\n",
            "Model 5 Root Mean Squared Error: 1.1322138160558528\n"
          ],
          "name": "stdout"
        },
        {
          "output_type": "execute_result",
          "data": {
            "text/plain": [
              "1.155740670629108"
            ]
          },
          "metadata": {
            "tags": []
          },
          "execution_count": 50
        }
      ]
    },
    {
      "cell_type": "code",
      "metadata": {
        "colab": {
          "base_uri": "https://localhost:8080/"
        },
        "id": "tYTfhKgW0Gxb",
        "outputId": "18f1bcf2-86c1-474d-bc74-55f67da4b5dc"
      },
      "source": [
        "from sklearn.model_selection import LeaveOneOut\n",
        "\n",
        "folds = LeaveOneOut()\n",
        "X1=df[['home_team_rank','away_team_rank','tournament']].values\n",
        "y1=df['home_score'].values\n",
        "# note that if you have a KFold object, you can figure out how many folds you set up \n",
        "# for it using get_n_splits\n",
        "print('we are using ' +str(folds.get_n_splits(X1)) + ' folds')\n",
        "\n",
        "# We now create and assess 5 models based on the folds we created.\n",
        "RMSES = [] # We will use this array to keep track of the RSME of each model\n",
        "count = 0 \n",
        "for train_index, test_index in folds.split(X1):\n",
        "  \n",
        "  # set up the train and test based on the split determined by KFold\n",
        "  # With 5 folds, we will end up with 80% of our data in the training set, and 20% in the test set, just as above\n",
        "  X1_train, X1_test = X1[train_index], X1[test_index]\n",
        "  y1_train, y1_test = y1[train_index], y1[test_index]\n",
        "  \n",
        "  # fit a model accordingly\n",
        "  regressor = LinearRegression()  \n",
        "  regressor.fit(X1_train, y1_train)\n",
        "  \n",
        "  # assess the accuraccy of the model\n",
        "  y1_pred = regressor.predict(X1_test)\n",
        "  \n",
        "  rmse_value =  np.sqrt(metrics.mean_squared_error(y1_test, y1_pred))\n",
        "  RMSES.append(rmse_value)\n",
        "  \n",
        "  count = count + 1\n",
        "print('trained ' + str(count) + ' models' )\n",
        "np.mean(RMSES)"
      ],
      "execution_count": 51,
      "outputs": [
        {
          "output_type": "stream",
          "text": [
            "we are using 17176 folds\n",
            "trained 17176 models\n"
          ],
          "name": "stdout"
        },
        {
          "output_type": "execute_result",
          "data": {
            "text/plain": [
              "0.9273483751194713"
            ]
          },
          "metadata": {
            "tags": []
          },
          "execution_count": 51
        }
      ]
    },
    {
      "cell_type": "markdown",
      "metadata": {
        "id": "xyItEj_FMWwF"
      },
      "source": [
        ""
      ]
    },
    {
      "cell_type": "code",
      "metadata": {
        "colab": {
          "base_uri": "https://localhost:8080/",
          "height": 279
        },
        "id": "UFGSBxd_ngXN",
        "outputId": "1c65e043-506e-44c9-c214-cba38ffdd7c2"
      },
      "source": [
        "plt.plot(RMSES)\n",
        "plt.ylabel('RMSE value')\n",
        "plt.xlabel('model ID')\n",
        "plt.show()"
      ],
      "execution_count": 52,
      "outputs": [
        {
          "output_type": "display_data",
          "data": {
            "image/png": "[encoded data removed]",
            "text/plain": [
              "<Figure size 432x288 with 1 Axes>"
            ]
          },
          "metadata": {
            "tags": [],
            "needs_background": "light"
          }
        }
      ]
    },
    {
      "cell_type": "markdown",
      "metadata": {
        "id": "tx-Yc63MT2Mh"
      },
      "source": [
        "Heteroskedasticity\n",
        "Check for residuals"
      ]
    },
    {
      "cell_type": "code",
      "metadata": {
        "colab": {
          "base_uri": "https://localhost:8080/"
        },
        "id": "rJgj_rsZT7JK",
        "outputId": "c5b39255-c5a0-4852-e5d8-943b4bd0517d"
      },
      "source": [
        "X1=df[['home_team_rank','away_team_rank','tournament']]\n",
        "y1=df['home_score']\n",
        "X1_train, X1_test, y1_train, y1_test = train_test_split(X1, y1, test_size=0.2, random_state=0)\n",
        "\n",
        "regressor = LinearRegression()\n",
        "regressor.fit(X1_train, y1_train)\n",
        "\n",
        "# This is our prediction for admission based on our model\n",
        "y1_predict = regressor.predict(X1_test)\n",
        "\n",
        "# We now create the residual by substracting the test value from the predicted \n",
        "# value for each row in our dataset\n",
        "\n",
        "residuals1 = np.subtract(y1_predict, y1_test)\n",
        "\n",
        "# Let's describe our residual:\n",
        "pd.DataFrame(residuals1).describe()\n",
        "\n",
        "residuals1.mean()"
      ],
      "execution_count": 53,
      "outputs": [
        {
          "output_type": "execute_result",
          "data": {
            "text/plain": [
              "0.012836114954297095"
            ]
          },
          "metadata": {
            "tags": []
          },
          "execution_count": 53
        }
      ]
    },
    {
      "cell_type": "code",
      "metadata": {
        "colab": {
          "base_uri": "https://localhost:8080/",
          "height": 279
        },
        "id": "s8yfxisKUNyw",
        "outputId": "001aa46a-b41c-471b-9507-b1766777633f"
      },
      "source": [
        "plt.scatter(y1_predict, residuals1, color='blue')\n",
        "plt.ylabel('residual')\n",
        "plt.xlabel('fitted values')\n",
        "plt.axhline(y= residuals1.mean(), color='red', linewidth=1)\n",
        "plt.show()"
      ],
      "execution_count": 54,
      "outputs": [
        {
          "output_type": "display_data",
          "data": {
            "image/png": "[encoded data removed]",
            "text/plain": [
              "<Figure size 432x288 with 1 Axes>"
            ]
          },
          "metadata": {
            "tags": [],
            "needs_background": "light"
          }
        }
      ]
    },
    {
      "cell_type": "markdown",
      "metadata": {
        "id": "rsOawQ5pX5FB"
      },
      "source": [
        "Bartlett's test"
      ]
    },
    {
      "cell_type": "code",
      "metadata": {
        "colab": {
          "base_uri": "https://localhost:8080/"
        },
        "id": "92sVSLjEUXXX",
        "outputId": "85b312b1-c511-44ee-b84c-a66d29c04e9f"
      },
      "source": [
        "test_result, p_value = sp.stats.bartlett(y1_predict, residuals1)\n",
        "\n",
        "# To interpret the results we must also compute a critical value of the chi squared distribution\n",
        "degree_of_freedom = len(y1_predict)-1\n",
        "probability = 1 - p_value\n",
        "\n",
        "critical_value = sp.stats.chi2.ppf(probability, degree_of_freedom)\n",
        "print(critical_value)\n",
        "\n",
        "# If the test_result is greater than the critical value, then we reject our null\n",
        "# hypothesis. This would mean that there are patterns to the variance of the data\n",
        "\n",
        "# Otherwise, we can identify no patterns, and we accept the null hypothesis that \n",
        "# the variance is homogeneous across our data\n",
        "\n",
        "if (test_result > critical_value):\n",
        "  print('the variances are unequal, and the model should be reassessed')\n",
        "else:\n",
        "  print('the variances are homogeneous!')\n"
      ],
      "execution_count": 55,
      "outputs": [
        {
          "output_type": "stream",
          "text": [
            "inf\n",
            "the variances are homogeneous!\n"
          ],
          "name": "stdout"
        }
      ]
    },
    {
      "cell_type": "markdown",
      "metadata": {
        "id": "PJNxrK-PXvAE"
      },
      "source": [
        "*Observation*\n",
        "\n",
        "The KFold model has a mean RMSES of 1.1557  and the model with lowest RMSES is Model 3 while model 2 has the largest RMSES value\n",
        "\n",
        "Using  the Leave One Out Cross validations gives a RMSES value of 0.927.\n",
        "This model gives us a sense of how  best we can expect a given model to be using our dataset\n",
        "\n",
        "The Variances are homogenous. This is seen by the residual mean value of 0.012836\n",
        "\n",
        "The residual plot has a parallel pattern which is a logical consequence of the fact that that the dependent variable has only a few possible values.\n"
      ]
    },
    {
      "cell_type": "markdown",
      "metadata": {
        "id": "Uh1oC59lOsbr"
      },
      "source": [
        "#### ii) Model 2: Predicting goals scored by away team"
      ]
    },
    {
      "cell_type": "markdown",
      "metadata": {
        "id": "4poJ7LfLO7Dl"
      },
      "source": [
        "Modelling"
      ]
    },
    {
      "cell_type": "code",
      "metadata": {
        "colab": {
          "base_uri": "https://localhost:8080/"
        },
        "id": "eqJI6YtgPMbn",
        "outputId": "adee6de8-f5d0-4390-e489-fc1079465730"
      },
      "source": [
        "# Get our dependent and independent variables\n",
        "X2=df[['home_team_rank','away_team_rank','tournament']].values\n",
        "y2=df['away_score'].values\n",
        "\n",
        "print(X2.shape)\n",
        "print(y2.shape)\n",
        "\n",
        "# Splitting the dataset to get the train and test sets\n",
        "X2_train, y2_train, X2_test, y2_test = train_test_split(X2,y2, test_size = 0.2, random_state=0)\n",
        "\n",
        "# Fit Linear Regression model to the dataset(this is optional. We are doing this for the sole purpose of comparing the linear regression model to the polynomial regression model)\n",
        "reg_line = LinearRegression()\n",
        "reg_line.fit(X2,y2)\n",
        "\n",
        "# Fit polynomial Regression to the dataset\n",
        "poly_reg2 = PolynomialFeatures(degree = 5) \n",
        "X2_poly = poly_reg2.fit_transform(X2)\n",
        "\n",
        "pol_reg = LinearRegression()\n",
        "pol_reg.fit(X2_poly, y2)\n",
        "\n",
        "pol_reg.predict(poly_reg.fit_transform([[1,150,0]]))"
      ],
      "execution_count": 56,
      "outputs": [
        {
          "output_type": "stream",
          "text": [
            "(17176, 3)\n",
            "(17176,)\n"
          ],
          "name": "stdout"
        },
        {
          "output_type": "execute_result",
          "data": {
            "text/plain": [
              "array([0.22873695])"
            ]
          },
          "metadata": {
            "tags": []
          },
          "execution_count": 56
        }
      ]
    },
    {
      "cell_type": "code",
      "metadata": {
        "colab": {
          "base_uri": "https://localhost:8080/"
        },
        "id": "QKMAtRuATdFq",
        "outputId": "9703dadc-fe25-450d-adce-2f4951c74a5d"
      },
      "source": [
        "# Hometeam rank,away rank, tournament examples\n",
        "# (1,83,0),(93,2,0),(60,57,1)\n",
        "\n",
        "print(pol_reg.predict(poly_reg.fit_transform([[1,83,0]])))\n",
        "print(pol_reg.predict(poly_reg.fit_transform([[93,2,0]])))\n",
        "print(pol_reg.predict(poly_reg.fit_transform([[60,57,1]])))"
      ],
      "execution_count": 77,
      "outputs": [
        {
          "output_type": "stream",
          "text": [
            "[0.44123065]\n",
            "[2.07289805]\n",
            "[1.00339925]\n"
          ],
          "name": "stdout"
        }
      ]
    },
    {
      "cell_type": "markdown",
      "metadata": {
        "id": "MrZuXtPeOTWw"
      },
      "source": [
        "Cross- Validation 2 (Away Scores)"
      ]
    },
    {
      "cell_type": "code",
      "metadata": {
        "colab": {
          "base_uri": "https://localhost:8080/"
        },
        "id": "Eq6zLiY1SzVJ",
        "outputId": "539899f6-4467-4dad-c8df-b1f4df596187"
      },
      "source": [
        "X2=df[['home_team_rank','away_team_rank','tournament']].values\n",
        "y2=df['away_score'].values\n",
        "folds = KFold(n_splits=5)\n",
        "\n",
        "# note that if you have a KFold object, you can figure out how many folds you set up \n",
        "# for it using get_n_splits\n",
        "print('we are using ' +str(folds.get_n_splits(X2)) + ' folds')\n",
        "\n",
        "# We now create and assess 5 models based on the folds we created.\n",
        "RMSES = [] # We will use this array to keep track of the RSME of each model\n",
        "count = 1 # This will just help \n",
        "for train_index, test_index in folds.split(X2):\n",
        "  print('\\nTraining model ' + str(count))\n",
        "  \n",
        "  # set up the train and test based on the split determined by KFold\n",
        "  # With 5 folds, we will end up with 80% of our data in the training set, and 20% in the test set, just as above\n",
        "  X2_train, X2_test = X2[train_index], X2[test_index]\n",
        "  y2_train, y2_test = y2[train_index], y2[test_index]\n",
        "  \n",
        "  # fit a model accordingly\n",
        "  regressor = LinearRegression()  \n",
        "  regressor.fit(X2_train, y2_train)\n",
        "  \n",
        "  # assess the accuraccy of the model\n",
        "  y_pred = regressor.predict(X2_test)\n",
        "  \n",
        "  rmse_value =  np.sqrt(metrics.mean_squared_error(y2_test, y_pred))\n",
        "  RMSES.append(rmse_value)\n",
        "  \n",
        "  print('Model ' + str(count) + ' Root Mean Squared Error:',rmse_value)\n",
        "  count = count + 1\n",
        "\n",
        "np.mean(RMSES)"
      ],
      "execution_count": 57,
      "outputs": [
        {
          "output_type": "stream",
          "text": [
            "we are using 5 folds\n",
            "\n",
            "Training model 1\n",
            "Model 1 Root Mean Squared Error: 1.0268926951494324\n",
            "\n",
            "Training model 2\n",
            "Model 2 Root Mean Squared Error: 1.051516562913681\n",
            "\n",
            "Training model 3\n",
            "Model 3 Root Mean Squared Error: 1.0143601225432184\n",
            "\n",
            "Training model 4\n",
            "Model 4 Root Mean Squared Error: 1.0017916822075554\n",
            "\n",
            "Training model 5\n",
            "Model 5 Root Mean Squared Error: 1.0184354993415399\n"
          ],
          "name": "stdout"
        },
        {
          "output_type": "execute_result",
          "data": {
            "text/plain": [
              "1.0225993124310855"
            ]
          },
          "metadata": {
            "tags": []
          },
          "execution_count": 57
        }
      ]
    },
    {
      "cell_type": "code",
      "metadata": {
        "colab": {
          "base_uri": "https://localhost:8080/"
        },
        "id": "P-z3KsuJOFpk",
        "outputId": "c7f224ec-ab4b-47da-bb71-287eb6fc009e"
      },
      "source": [
        "from sklearn.model_selection import LeaveOneOut\n",
        "\n",
        "folds = LeaveOneOut()\n",
        "X1=df[['home_team_rank','away_team_rank','tournament']].values\n",
        "y1=df['away_score'].values\n",
        "# note that if you have a KFold object, you can figure out how many folds you set up \n",
        "# for it using get_n_splits\n",
        "print('we are using ' +str(folds.get_n_splits(X1)) + ' folds')\n",
        "\n",
        "# We now create and assess 5 models based on the folds we created.\n",
        "RMSES = [] # We will use this array to keep track of the RSME of each model\n",
        "count = 0 # This will just help \n",
        "for train_index, test_index in folds.split(X1):\n",
        "  \n",
        "  # set up the train and test based on the split determined by KFold\n",
        "  # With 5 folds, we will end up with 80% of our data in the training set, and 20% in the test set, just as above\n",
        "  X1_train, X1_test = X1[train_index], X1[test_index]\n",
        "  y1_train, y1_test = y1[train_index], y1[test_index]\n",
        "  \n",
        "  # fit a model accordingly\n",
        "  regressor = LinearRegression()  \n",
        "  regressor.fit(X1_train, y1_train)\n",
        "  \n",
        "  # assess the accuraccy of the model\n",
        "  y1_pred = regressor.predict(X1_test)\n",
        "  \n",
        "  rmse_value =  np.sqrt(metrics.mean_squared_error(y1_test, y1_pred))\n",
        "  RMSES.append(rmse_value)\n",
        "  \n",
        "  count = count + 1\n",
        "print('trained ' + str(count) + ' models' )\n",
        "np.mean(RMSES)"
      ],
      "execution_count": 58,
      "outputs": [
        {
          "output_type": "stream",
          "text": [
            "we are using 17176 folds\n",
            "trained 17176 models\n"
          ],
          "name": "stdout"
        },
        {
          "output_type": "execute_result",
          "data": {
            "text/plain": [
              "0.8031170948270177"
            ]
          },
          "metadata": {
            "tags": []
          },
          "execution_count": 58
        }
      ]
    },
    {
      "cell_type": "code",
      "metadata": {
        "colab": {
          "base_uri": "https://localhost:8080/",
          "height": 279
        },
        "id": "hXqbO7yoQB4T",
        "outputId": "6ee376bc-a13d-49f6-a8d8-bd92a77957f8"
      },
      "source": [
        "plt.plot(RMSES)\n",
        "plt.ylabel('RMSE value')\n",
        "plt.xlabel('model ID')\n",
        "plt.show()"
      ],
      "execution_count": 59,
      "outputs": [
        {
          "output_type": "display_data",
          "data": {
            "image/png": "[encoded data removed]",
            "text/plain": [
              "<Figure size 432x288 with 1 Axes>"
            ]
          },
          "metadata": {
            "tags": [],
            "needs_background": "light"
          }
        }
      ]
    },
    {
      "cell_type": "markdown",
      "metadata": {
        "id": "TMXGPZwuVREq"
      },
      "source": [
        "Heteroskedasticity test and residual plots"
      ]
    },
    {
      "cell_type": "code",
      "metadata": {
        "colab": {
          "base_uri": "https://localhost:8080/"
        },
        "id": "ix-_SIebVQsj",
        "outputId": "d24a99b2-15ac-445d-d306-05e9cdcec5ba"
      },
      "source": [
        "X2=df[['home_team_rank','away_team_rank','tournament']]\n",
        "y2=df['away_score']\n",
        "X2_train, X2_test, y2_train, y2_test = train_test_split(X2, y2, test_size=0.2, random_state=0)\n",
        "\n",
        "regressor = LinearRegression()\n",
        "regressor.fit(X2_train, y2_train)\n",
        "\n",
        "# This is our prediction for admission based on our model\n",
        "y2_predict = regressor.predict(X2_test)\n",
        "\n",
        "# We now create the residual by substracting the test value from the predicted \n",
        "# value for each row in our dataset\n",
        "\n",
        "residuals = np.subtract(y2_predict, y2_test)\n",
        "\n",
        "# Let's describe our residual:\n",
        "pd.DataFrame(residuals).describe()\n",
        "\n",
        "residuals.mean()"
      ],
      "execution_count": 60,
      "outputs": [
        {
          "output_type": "execute_result",
          "data": {
            "text/plain": [
              "-0.0005445130527768274"
            ]
          },
          "metadata": {
            "tags": []
          },
          "execution_count": 60
        }
      ]
    },
    {
      "cell_type": "code",
      "metadata": {
        "colab": {
          "base_uri": "https://localhost:8080/",
          "height": 279
        },
        "id": "xAs4yHdFVehq",
        "outputId": "cf809a47-17ed-455a-cd58-8acfd9465e20"
      },
      "source": [
        "# Residual plots\n",
        "plt.scatter(y2_predict, residuals, color='black')\n",
        "plt.ylabel('residual')\n",
        "plt.xlabel('fitted values')\n",
        "plt.axhline(y= residuals.mean(), color='orange', linewidth=1)\n",
        "plt.show()"
      ],
      "execution_count": 61,
      "outputs": [
        {
          "output_type": "display_data",
          "data": {
            "image/png": "[encoded data removed]",
            "text/plain": [
              "<Figure size 432x288 with 1 Axes>"
            ]
          },
          "metadata": {
            "tags": [],
            "needs_background": "light"
          }
        }
      ]
    },
    {
      "cell_type": "markdown",
      "metadata": {
        "id": "Y492gJNTYUFe"
      },
      "source": [
        "Bartlett's Test"
      ]
    },
    {
      "cell_type": "code",
      "metadata": {
        "colab": {
          "base_uri": "https://localhost:8080/"
        },
        "id": "yf42_PyxYN4s",
        "outputId": "a9e4f613-9254-47d1-ddf1-4a6d581db2d9"
      },
      "source": [
        "test_result, p_value = sp.stats.bartlett(y2_predict, residuals)\n",
        "\n",
        "# To interpret the results we must also compute a critical value of the chi squared distribution\n",
        "degree_of_freedom = len(y2_predict)-1\n",
        "probability = 1 - p_value\n",
        "\n",
        "critical_value = sp.stats.chi2.ppf(probability, degree_of_freedom)\n",
        "print(critical_value)\n",
        "\n",
        "# If the test_result is greater than the critical value, then we reject our null\n",
        "# hypothesis. This would mean that there are patterns to the variance of the data\n",
        "\n",
        "# Otherwise, we can identify no patterns, and we accept the null hypothesis that \n",
        "# the variance is homogeneous across our data\n",
        "\n",
        "if (test_result > critical_value):\n",
        "  print('the variances are unequal, and the model should be reassessed')\n",
        "else:\n",
        "  print('the variances are homogeneous!')"
      ],
      "execution_count": 62,
      "outputs": [
        {
          "output_type": "stream",
          "text": [
            "inf\n",
            "the variances are homogeneous!\n"
          ],
          "name": "stdout"
        }
      ]
    },
    {
      "cell_type": "markdown",
      "metadata": {
        "id": "Zotl4F30PKPi"
      },
      "source": [
        "The KFold cross validation model has a mean RMSES of 1.023  and the model with lowest RMSES is Model 3 while model 2 has the largest RMSES value\n",
        "\n",
        "Using  the Leave One Out Cross validations gives a RMSES value of 0.803.\n",
        "This model gives us a sense of how  best we can expect a given model to be using our dataset\n",
        "\n",
        "The Variances are homogenous. This is seen by the residual mean value of -0.0005"
      ]
    },
    {
      "cell_type": "markdown",
      "metadata": {
        "id": "p_HK9g69j1Xf"
      },
      "source": [
        "### b) Logistic Regression"
      ]
    },
    {
      "cell_type": "markdown",
      "metadata": {
        "id": "rgsL0XaJj95f"
      },
      "source": [
        "Figure out from the home team’s perspective if the game is a Win, Lose or Draw (W, L, D)"
      ]
    },
    {
      "cell_type": "markdown",
      "metadata": {
        "id": "fs6YNQhQkB0F"
      },
      "source": [
        "Feature Engineering has already been done. The match outcome is"
      ]
    },
    {
      "cell_type": "code",
      "metadata": {
        "colab": {
          "base_uri": "https://localhost:8080/"
        },
        "id": "eL1daOTGmTB3",
        "outputId": "0a571390-09fa-441e-a828-748c51bfc9d8"
      },
      "source": [
        "df.columns"
      ],
      "execution_count": 63,
      "outputs": [
        {
          "output_type": "execute_result",
          "data": {
            "text/plain": [
              "Index(['date', 'home_team', 'away_team', 'home_score', 'away_score',\n",
              "       'tournament', 'neutral', 'outcome', 'home_team_rank', 'away_team_rank'],\n",
              "      dtype='object')"
            ]
          },
          "metadata": {
            "tags": []
          },
          "execution_count": 63
        }
      ]
    },
    {
      "cell_type": "code",
      "metadata": {
        "id": "8gNFwy0ks3r5"
      },
      "source": [
        "df_outcome=df[['home_score', 'away_score','outcome']]"
      ],
      "execution_count": 64,
      "outputs": []
    },
    {
      "cell_type": "code",
      "metadata": {
        "colab": {
          "base_uri": "https://localhost:8080/"
        },
        "id": "D39Yt4N1oSgM",
        "outputId": "4586cebd-9c01-48b8-80dd-a57e37369152"
      },
      "source": [
        "X=df_outcome[['home_score', 'away_score']]\n",
        "y=df_outcome.outcome\n",
        "\n",
        "print ('Shape of X: ',X.shape,' Shape of y: ',y.shape)\n"
      ],
      "execution_count": 65,
      "outputs": [
        {
          "output_type": "stream",
          "text": [
            "Shape of X:  (17176, 2)  Shape of y:  (17176,)\n"
          ],
          "name": "stdout"
        }
      ]
    },
    {
      "cell_type": "code",
      "metadata": {
        "colab": {
          "base_uri": "https://localhost:8080/",
          "height": 501
        },
        "id": "deTjYiCRopcv",
        "outputId": "857bf2a8-f9ab-4836-93f4-ee48c581e0c5"
      },
      "source": [
        "# check for multicollinearity between the variables\n",
        "wld_vif = pd.DataFrame(np.linalg.inv(df_outcome.corr().values), index = df_outcome.corr().index,columns = df_outcome.corr().columns)\n",
        "\n",
        "plt.figure(figsize = (10,8))\n",
        "sns.heatmap(wld_vif, annot = True)\n",
        "\n"
      ],
      "execution_count": 66,
      "outputs": [
        {
          "output_type": "execute_result",
          "data": {
            "text/plain": [
              "<matplotlib.axes._subplots.AxesSubplot at 0x7fe7718e5590>"
            ]
          },
          "metadata": {
            "tags": []
          },
          "execution_count": 66
        },
        {
          "output_type": "display_data",
          "data": {
            "image/png": "[encoded data removed]",
            "text/plain": [
              "<Figure size 720x576 with 2 Axes>"
            ]
          },
          "metadata": {
            "tags": [],
            "needs_background": "light"
          }
        }
      ]
    },
    {
      "cell_type": "markdown",
      "metadata": {
        "id": "fv9GuytYy5dg"
      },
      "source": [
        "All VIF values that are below 5, so we can continue with analyses"
      ]
    },
    {
      "cell_type": "code",
      "metadata": {
        "id": "AFfpW18qj08C"
      },
      "source": [
        "# Split our dataset\n",
        "\n",
        "from sklearn.model_selection import train_test_split\n",
        "X_train, X_test, y_train, y_test = train_test_split(X, y, test_size = .2, random_state=25)"
      ],
      "execution_count": 67,
      "outputs": []
    },
    {
      "cell_type": "code",
      "metadata": {
        "id": "qQiXnkSenAhr"
      },
      "source": [
        "#Fit our model\n",
        "LogReg = LogisticRegression(solver = 'liblinear', multi_class = 'auto')\n",
        "LogReg.fit(X_train, y_train)\n",
        "\n",
        "# Using our model to make a prediction\n",
        "#\n",
        "y_pred = LogReg.predict(X_test)"
      ],
      "execution_count": 68,
      "outputs": []
    },
    {
      "cell_type": "code",
      "metadata": {
        "colab": {
          "base_uri": "https://localhost:8080/"
        },
        "id": "KHF5V5Tirzwl",
        "outputId": "2cf12938-76b0-4a51-936b-4f3b1dd37c26"
      },
      "source": [
        "y.value_counts()"
      ],
      "execution_count": 69,
      "outputs": [
        {
          "output_type": "execute_result",
          "data": {
            "text/plain": [
              "2    8169\n",
              "1    4718\n",
              "0    4289\n",
              "Name: outcome, dtype: int64"
            ]
          },
          "metadata": {
            "tags": []
          },
          "execution_count": 69
        }
      ]
    },
    {
      "cell_type": "code",
      "metadata": {
        "colab": {
          "base_uri": "https://localhost:8080/"
        },
        "id": "X32YKjJEnYRB",
        "outputId": "142ef38b-9e5f-4082-d69c-e5b244e89124"
      },
      "source": [
        "# Evaluating the model\n",
        "#\n",
        "from sklearn.metrics import confusion_matrix\n",
        "confusion_matrix = confusion_matrix(y_test, y_pred)\n",
        "confusion_matrix"
      ],
      "execution_count": 70,
      "outputs": [
        {
          "output_type": "execute_result",
          "data": {
            "text/plain": [
              "array([[ 868,    0,    0],\n",
              "       [   0,  937,    0],\n",
              "       [   0,    0, 1631]])"
            ]
          },
          "metadata": {
            "tags": []
          },
          "execution_count": 70
        }
      ]
    },
    {
      "cell_type": "markdown",
      "metadata": {
        "id": "AL_zCg3MsUng"
      },
      "source": [
        "Making predictions\n",
        "\n",
        "Using KNN"
      ]
    },
    {
      "cell_type": "code",
      "metadata": {
        "colab": {
          "base_uri": "https://localhost:8080/"
        },
        "id": "2xBC0ORbsXoo",
        "outputId": "02fe1bc9-6632-42ca-d120-2396798c46c3"
      },
      "source": [
        "# Fit the model\n",
        "knn = KNeighborsClassifier(n_neighbors = 1)\n",
        "knn.fit(X_train,y_train)"
      ],
      "execution_count": 71,
      "outputs": [
        {
          "output_type": "execute_result",
          "data": {
            "text/plain": [
              "KNeighborsClassifier(algorithm='auto', leaf_size=30, metric='minkowski',\n",
              "                     metric_params=None, n_jobs=None, n_neighbors=1, p=2,\n",
              "                     weights='uniform')"
            ]
          },
          "metadata": {
            "tags": []
          },
          "execution_count": 71
        }
      ]
    },
    {
      "cell_type": "code",
      "metadata": {
        "colab": {
          "base_uri": "https://localhost:8080/"
        },
        "id": "ZMwMv-gP2WGH",
        "outputId": "a7d0c707-669c-4115-fe1a-d36d65270b3d"
      },
      "source": [
        "# Using the examples to check the prediction\n",
        "# Where 2:win, 1: lose, 0:Draw\n",
        "ex_1=np.array([[1,3]])\n",
        "ex_2=np.array([[0,0]])\n",
        "\n",
        "prediction1 = knn.predict(ex_1)\n",
        "print(\"Result of prediction:\", prediction1)\n",
        "prediction2 = knn.predict(ex_2)\n",
        "print(\"Result of prediction:\", prediction2)"
      ],
      "execution_count": 72,
      "outputs": [
        {
          "output_type": "stream",
          "text": [
            "Result of prediction: [1]\n",
            "Result of prediction: [0]\n"
          ],
          "name": "stdout"
        }
      ]
    },
    {
      "cell_type": "code",
      "metadata": {
        "colab": {
          "base_uri": "https://localhost:8080/"
        },
        "id": "F37ff2k17aAN",
        "outputId": "116e3f9a-2886-4e23-b75e-8d0eca9ef664"
      },
      "source": [
        "# Test the accuracy of the model\n",
        "prediction_score = knn.score(X_test, y_test)\n",
        "prediction_score"
      ],
      "execution_count": 73,
      "outputs": [
        {
          "output_type": "execute_result",
          "data": {
            "text/plain": [
              "0.9997089639115251"
            ]
          },
          "metadata": {
            "tags": []
          },
          "execution_count": 73
        }
      ]
    },
    {
      "cell_type": "markdown",
      "metadata": {
        "id": "Wfq58MDkQQHj"
      },
      "source": [
        "From this, we see that our model is accurate approximately 99.97% of the time. While accuracy alone is not sufficient to conclude whether the model is actually good or not, we say it's a really good option to settle with for the time being until a better model can be made"
      ]
    },
    {
      "cell_type": "markdown",
      "metadata": {
        "id": "Grz_ndK53X3P"
      },
      "source": [
        "Cross-Validating the Model"
      ]
    },
    {
      "cell_type": "code",
      "metadata": {
        "colab": {
          "base_uri": "https://localhost:8080/"
        },
        "id": "KRAIMpFz22bc",
        "outputId": "28d2b099-31f8-4fd4-c468-ad841cfd457b"
      },
      "source": [
        "score = cross_val_score(LogisticRegression(solver='liblinear', multi_class = 'auto'), X, y, cv = 3)\n",
        "score"
      ],
      "execution_count": 74,
      "outputs": [
        {
          "output_type": "execute_result",
          "data": {
            "text/plain": [
              "array([0.99982536, 1.        , 1.        ])"
            ]
          },
          "metadata": {
            "tags": []
          },
          "execution_count": 74
        }
      ]
    },
    {
      "cell_type": "code",
      "metadata": {
        "colab": {
          "base_uri": "https://localhost:8080/"
        },
        "id": "acYpiNtP78EW",
        "outputId": "2e71efcb-609a-4f63-be04-797a982fe3c3"
      },
      "source": [
        "# assessing the accuracy of our model\n",
        "print(\"Accuracy: %0.2f (+/- %0.2f)\" % (score.mean(), score.std() * 2))"
      ],
      "execution_count": 75,
      "outputs": [
        {
          "output_type": "stream",
          "text": [
            "Accuracy: 1.00 (+/- 0.00)\n"
          ],
          "name": "stdout"
        }
      ]
    },
    {
      "cell_type": "markdown",
      "metadata": {
        "id": "ZjO2649t8BTn"
      },
      "source": [
        "The model is very accurate at predicting whether the match will be a win, loss, or draw given the home and away scores."
      ]
    },
    {
      "cell_type": "markdown",
      "metadata": {
        "id": "0nHk9C4eQgD5"
      },
      "source": [
        "## 6. Conclusion\n",
        "\n",
        "In conclusion, we see that tournament type, home rank, and away rank do not really influence the home or away scores by a large margin. We can assume this is because the goals scored or conceded are of few possible values\n",
        "\n",
        "We managed to correctly predict home or away goal scored.\n",
        "\n",
        "The Logistic regression model performed really well and with ~ 100% accuracy.\n",
        "This means we can accurately predict the match outcome given the goals scored by both away and home teams."
      ]
    },
    {
      "cell_type": "markdown",
      "metadata": {
        "id": "2tBh-ULhRM2e"
      },
      "source": [
        "## 7. Challenging the Solution\n",
        "\n",
        "Also, the data sets need to be more completed and less biased(missiing point values upto 2011) so that there is not so much loss of data when merging the two datasets\n",
        "We should also try to figure out a way to extensively explore the relationship between ranks and scores and split the data according to regions (e.g. country or continent) and/or confederations, and see if there's an influence on ranking and scores."
      ]
    }
  ]
}